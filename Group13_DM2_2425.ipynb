{
  "nbformat": 4,
  "nbformat_minor": 0,
  "metadata": {
    "colab": {
      "provenance": [],
      "toc_visible": true,
      "include_colab_link": true
    },
    "kernelspec": {
      "name": "python3",
      "display_name": "Python 3"
    },
    "language_info": {
      "name": "python"
    }
  },
  "cells": [
    {
      "cell_type": "markdown",
      "metadata": {
        "id": "view-in-github",
        "colab_type": "text"
      },
      "source": [
        "<a href=\"https://colab.research.google.com/github/Gboavida/datamining2/blob/main/Group13_DM2_2425.ipynb\" target=\"_parent\"><img src=\"https://colab.research.google.com/assets/colab-badge.svg\" alt=\"Open In Colab\"/></a>"
      ]
    },
    {
      "cell_type": "markdown",
      "source": [
        "# <b><font size=\"6\"> Notebook - Group 13</font><a class=\"anchor\"><a id='toc'></a></b><br><br>\n",
        "\n",
        "Group 13: \\\\\n",
        "Guilherme Boavida $|$ 20240332  \\\\\n",
        "João Fernandes $|$ 20240313 \\\\\n",
        "Joana Aurelio $|$ 20241160 \\\\\n",
        "Maria Pereira $|$ 20240323\n"
      ],
      "metadata": {
        "id": "85-GcY9JvWgw"
      }
    },
    {
      "cell_type": "markdown",
      "source": [
        "# <font color='#BFD72F'> Importing the Data</font>"
      ],
      "metadata": {
        "id": "BmjAGyqC2gMi"
      }
    },
    {
      "cell_type": "code",
      "execution_count": 1,
      "metadata": {
        "id": "uxbyhhGvvJqy",
        "colab": {
          "base_uri": "https://localhost:8080/"
        },
        "outputId": "285ad059-e708-4bc5-ab2d-b33dad296ccd"
      },
      "outputs": [
        {
          "output_type": "stream",
          "name": "stdout",
          "text": [
            "Mounted at /content/drive\n"
          ]
        }
      ],
      "source": [
        "# Connect Google Colab to Drive\n",
        "from google.colab import drive\n",
        "drive.mount('/content/drive', force_remount=True)\n",
        "path = '/content/drive/MyDrive/DM2/Project/'"
      ]
    },
    {
      "cell_type": "markdown",
      "source": [
        "# <font color='#BFD72F'> Libraries</font>"
      ],
      "metadata": {
        "id": "EFxLTkJk46Z0"
      }
    },
    {
      "cell_type": "code",
      "source": [
        "import numpy as np\n",
        "import pandas as pd\n",
        "import matplotlib.pyplot as plt\n",
        "import seaborn as sns\n",
        "from sklearn.model_selection import train_test_split\n",
        "from sklearn.ensemble import RandomForestClassifier\n",
        "from sklearn.preprocessing import OneHotEncoder\n",
        "from datetime import datetime\n",
        "from sklearn.impute import KNNImputer\n",
        "from sklearn.neighbors import KNeighborsClassifier\n",
        "from sklearn.ensemble import RandomForestRegressor\n",
        "from sklearn.feature_selection import RFE\n",
        "from sklearn.linear_model import LogisticRegression\n",
        "from sklearn.preprocessing import StandardScaler\n",
        "from sklearn.preprocessing import MinMaxScaler\n",
        "from sklearn.metrics import f1_score\n",
        "from sklearn.naive_bayes import GaussianNB\n",
        "from sklearn.feature_selection import RFECV\n",
        "from sklearn.model_selection import StratifiedKFold\n"
      ],
      "metadata": {
        "id": "0mx5Kk2h45Fz"
      },
      "execution_count": 2,
      "outputs": []
    },
    {
      "cell_type": "markdown",
      "source": [
        "# <font color='#BFD72F'> 1. Data Understanding</font>"
      ],
      "metadata": {
        "id": "lhud1Dho5C4T"
      }
    },
    {
      "cell_type": "code",
      "source": [
        "train = pd.read_csv(path + '/Datasets/patient_train_data.csv')\n",
        "test = pd.read_csv(path + '/Datasets/patient_test_data.csv')"
      ],
      "metadata": {
        "id": "cS_nwD1c4ApB"
      },
      "execution_count": 3,
      "outputs": []
    },
    {
      "cell_type": "code",
      "source": [
        "train.shape"
      ],
      "metadata": {
        "colab": {
          "base_uri": "https://localhost:8080/"
        },
        "id": "yr6jnnir5zwS",
        "outputId": "12281a2b-8291-498a-d766-3d90f1d082fc"
      },
      "execution_count": 4,
      "outputs": [
        {
          "output_type": "execute_result",
          "data": {
            "text/plain": [
              "(75035, 32)"
            ]
          },
          "metadata": {},
          "execution_count": 4
        }
      ]
    },
    {
      "cell_type": "code",
      "source": [
        "train.columns"
      ],
      "metadata": {
        "colab": {
          "base_uri": "https://localhost:8080/"
        },
        "id": "tnvY2UIv6fkC",
        "outputId": "c5bb1e8b-0e68-4d4b-d4ad-9e9cab47a59f"
      },
      "execution_count": 5,
      "outputs": [
        {
          "output_type": "execute_result",
          "data": {
            "text/plain": [
              "Index(['ID', 'Alcohol Consumption', 'Cancer Stage', 'Country', 'Date of Birth',\n",
              "       'Diabetes', 'Diabetes History', 'Diet Risk', 'Early Detection',\n",
              "       'Family History', 'Gender', 'Genetic Mutation', 'Healthcare Access',\n",
              "       'Healthcare Costs', 'Heart Disease History', 'Hypertension',\n",
              "       'Incidence Rate per 100K', 'Inflammatory Bowel Disease',\n",
              "       'Insurance Costs', 'Insurance Status', 'Marital Status',\n",
              "       'Mortality Rate per 100K', 'Non Smoker', 'Obesity BMI',\n",
              "       'Physical Activity', 'Screening History', 'Smoking History',\n",
              "       'Transfusion History', 'Treatment Type', 'Tumor Size (mm)',\n",
              "       'Urban or Rural', 'Survival Prediction'],\n",
              "      dtype='object')"
            ]
          },
          "metadata": {},
          "execution_count": 5
        }
      ]
    },
    {
      "cell_type": "code",
      "source": [
        "train.head()"
      ],
      "metadata": {
        "colab": {
          "base_uri": "https://localhost:8080/",
          "height": 463
        },
        "id": "WVDE2Imh6i0t",
        "outputId": "c3208c9a-e22a-4510-d12d-86145846922a"
      },
      "execution_count": 6,
      "outputs": [
        {
          "output_type": "execute_result",
          "data": {
            "text/plain": [
              "   ID Alcohol Consumption Cancer Stage Country Date of Birth Diabetes  \\\n",
              "0   1                  No    Localized      UK    29-01-1966       No   \n",
              "1   2                  No     Regional   Japan    21-12-1958       No   \n",
              "2   3                  No    Localized  France    16-06-1959       No   \n",
              "3   4                 Yes    Localized   Japan    18-01-1956      Yes   \n",
              "4   5                  No     Regional     USA    04-05-1975       No   \n",
              "\n",
              "  Diabetes History Diet Risk Early Detection Family History  ... Non Smoker  \\\n",
              "0               No  Moderate              No             No  ...        Yes   \n",
              "1               No       Low              No             No  ...         No   \n",
              "2               No       Low             Yes             No  ...         No   \n",
              "3               No  Moderate              No             No  ...        Yes   \n",
              "4               No  Moderate             Yes            Yes  ...        Yes   \n",
              "\n",
              "  Obesity BMI Physical Activity  Screening History Smoking History  \\\n",
              "0  Overweight               Low            Regular              No   \n",
              "1      Normal               Low          Irregular             Yes   \n",
              "2      Normal          Moderate              Never             Yes   \n",
              "3       Obese               Low            Regular              No   \n",
              "4  Overweight               Low            Regular              No   \n",
              "\n",
              "  Transfusion History  Treatment Type Tumor Size (mm) Urban or Rural  \\\n",
              "0                   -    Chemotherapy            33.0          Urban   \n",
              "1                   -    Chemotherapy            17.0          Urban   \n",
              "2                   -         Surgery            34.0          Urban   \n",
              "3                   -    Radiotherapy            71.0          Urban   \n",
              "4                   -    Radiotherapy            48.0          Rural   \n",
              "\n",
              "  Survival Prediction  \n",
              "0                 Yes  \n",
              "1                  No  \n",
              "2                 Yes  \n",
              "3                  No  \n",
              "4                 Yes  \n",
              "\n",
              "[5 rows x 32 columns]"
            ],
            "text/html": [
              "\n",
              "  <div id=\"df-13100dff-fddd-4b19-bcec-1425d10cd1a7\" class=\"colab-df-container\">\n",
              "    <div>\n",
              "<style scoped>\n",
              "    .dataframe tbody tr th:only-of-type {\n",
              "        vertical-align: middle;\n",
              "    }\n",
              "\n",
              "    .dataframe tbody tr th {\n",
              "        vertical-align: top;\n",
              "    }\n",
              "\n",
              "    .dataframe thead th {\n",
              "        text-align: right;\n",
              "    }\n",
              "</style>\n",
              "<table border=\"1\" class=\"dataframe\">\n",
              "  <thead>\n",
              "    <tr style=\"text-align: right;\">\n",
              "      <th></th>\n",
              "      <th>ID</th>\n",
              "      <th>Alcohol Consumption</th>\n",
              "      <th>Cancer Stage</th>\n",
              "      <th>Country</th>\n",
              "      <th>Date of Birth</th>\n",
              "      <th>Diabetes</th>\n",
              "      <th>Diabetes History</th>\n",
              "      <th>Diet Risk</th>\n",
              "      <th>Early Detection</th>\n",
              "      <th>Family History</th>\n",
              "      <th>...</th>\n",
              "      <th>Non Smoker</th>\n",
              "      <th>Obesity BMI</th>\n",
              "      <th>Physical Activity</th>\n",
              "      <th>Screening History</th>\n",
              "      <th>Smoking History</th>\n",
              "      <th>Transfusion History</th>\n",
              "      <th>Treatment Type</th>\n",
              "      <th>Tumor Size (mm)</th>\n",
              "      <th>Urban or Rural</th>\n",
              "      <th>Survival Prediction</th>\n",
              "    </tr>\n",
              "  </thead>\n",
              "  <tbody>\n",
              "    <tr>\n",
              "      <th>0</th>\n",
              "      <td>1</td>\n",
              "      <td>No</td>\n",
              "      <td>Localized</td>\n",
              "      <td>UK</td>\n",
              "      <td>29-01-1966</td>\n",
              "      <td>No</td>\n",
              "      <td>No</td>\n",
              "      <td>Moderate</td>\n",
              "      <td>No</td>\n",
              "      <td>No</td>\n",
              "      <td>...</td>\n",
              "      <td>Yes</td>\n",
              "      <td>Overweight</td>\n",
              "      <td>Low</td>\n",
              "      <td>Regular</td>\n",
              "      <td>No</td>\n",
              "      <td>-</td>\n",
              "      <td>Chemotherapy</td>\n",
              "      <td>33.0</td>\n",
              "      <td>Urban</td>\n",
              "      <td>Yes</td>\n",
              "    </tr>\n",
              "    <tr>\n",
              "      <th>1</th>\n",
              "      <td>2</td>\n",
              "      <td>No</td>\n",
              "      <td>Regional</td>\n",
              "      <td>Japan</td>\n",
              "      <td>21-12-1958</td>\n",
              "      <td>No</td>\n",
              "      <td>No</td>\n",
              "      <td>Low</td>\n",
              "      <td>No</td>\n",
              "      <td>No</td>\n",
              "      <td>...</td>\n",
              "      <td>No</td>\n",
              "      <td>Normal</td>\n",
              "      <td>Low</td>\n",
              "      <td>Irregular</td>\n",
              "      <td>Yes</td>\n",
              "      <td>-</td>\n",
              "      <td>Chemotherapy</td>\n",
              "      <td>17.0</td>\n",
              "      <td>Urban</td>\n",
              "      <td>No</td>\n",
              "    </tr>\n",
              "    <tr>\n",
              "      <th>2</th>\n",
              "      <td>3</td>\n",
              "      <td>No</td>\n",
              "      <td>Localized</td>\n",
              "      <td>France</td>\n",
              "      <td>16-06-1959</td>\n",
              "      <td>No</td>\n",
              "      <td>No</td>\n",
              "      <td>Low</td>\n",
              "      <td>Yes</td>\n",
              "      <td>No</td>\n",
              "      <td>...</td>\n",
              "      <td>No</td>\n",
              "      <td>Normal</td>\n",
              "      <td>Moderate</td>\n",
              "      <td>Never</td>\n",
              "      <td>Yes</td>\n",
              "      <td>-</td>\n",
              "      <td>Surgery</td>\n",
              "      <td>34.0</td>\n",
              "      <td>Urban</td>\n",
              "      <td>Yes</td>\n",
              "    </tr>\n",
              "    <tr>\n",
              "      <th>3</th>\n",
              "      <td>4</td>\n",
              "      <td>Yes</td>\n",
              "      <td>Localized</td>\n",
              "      <td>Japan</td>\n",
              "      <td>18-01-1956</td>\n",
              "      <td>Yes</td>\n",
              "      <td>No</td>\n",
              "      <td>Moderate</td>\n",
              "      <td>No</td>\n",
              "      <td>No</td>\n",
              "      <td>...</td>\n",
              "      <td>Yes</td>\n",
              "      <td>Obese</td>\n",
              "      <td>Low</td>\n",
              "      <td>Regular</td>\n",
              "      <td>No</td>\n",
              "      <td>-</td>\n",
              "      <td>Radiotherapy</td>\n",
              "      <td>71.0</td>\n",
              "      <td>Urban</td>\n",
              "      <td>No</td>\n",
              "    </tr>\n",
              "    <tr>\n",
              "      <th>4</th>\n",
              "      <td>5</td>\n",
              "      <td>No</td>\n",
              "      <td>Regional</td>\n",
              "      <td>USA</td>\n",
              "      <td>04-05-1975</td>\n",
              "      <td>No</td>\n",
              "      <td>No</td>\n",
              "      <td>Moderate</td>\n",
              "      <td>Yes</td>\n",
              "      <td>Yes</td>\n",
              "      <td>...</td>\n",
              "      <td>Yes</td>\n",
              "      <td>Overweight</td>\n",
              "      <td>Low</td>\n",
              "      <td>Regular</td>\n",
              "      <td>No</td>\n",
              "      <td>-</td>\n",
              "      <td>Radiotherapy</td>\n",
              "      <td>48.0</td>\n",
              "      <td>Rural</td>\n",
              "      <td>Yes</td>\n",
              "    </tr>\n",
              "  </tbody>\n",
              "</table>\n",
              "<p>5 rows × 32 columns</p>\n",
              "</div>\n",
              "    <div class=\"colab-df-buttons\">\n",
              "\n",
              "  <div class=\"colab-df-container\">\n",
              "    <button class=\"colab-df-convert\" onclick=\"convertToInteractive('df-13100dff-fddd-4b19-bcec-1425d10cd1a7')\"\n",
              "            title=\"Convert this dataframe to an interactive table.\"\n",
              "            style=\"display:none;\">\n",
              "\n",
              "  <svg xmlns=\"http://www.w3.org/2000/svg\" height=\"24px\" viewBox=\"0 -960 960 960\">\n",
              "    <path d=\"M120-120v-720h720v720H120Zm60-500h600v-160H180v160Zm220 220h160v-160H400v160Zm0 220h160v-160H400v160ZM180-400h160v-160H180v160Zm440 0h160v-160H620v160ZM180-180h160v-160H180v160Zm440 0h160v-160H620v160Z\"/>\n",
              "  </svg>\n",
              "    </button>\n",
              "\n",
              "  <style>\n",
              "    .colab-df-container {\n",
              "      display:flex;\n",
              "      gap: 12px;\n",
              "    }\n",
              "\n",
              "    .colab-df-convert {\n",
              "      background-color: #E8F0FE;\n",
              "      border: none;\n",
              "      border-radius: 50%;\n",
              "      cursor: pointer;\n",
              "      display: none;\n",
              "      fill: #1967D2;\n",
              "      height: 32px;\n",
              "      padding: 0 0 0 0;\n",
              "      width: 32px;\n",
              "    }\n",
              "\n",
              "    .colab-df-convert:hover {\n",
              "      background-color: #E2EBFA;\n",
              "      box-shadow: 0px 1px 2px rgba(60, 64, 67, 0.3), 0px 1px 3px 1px rgba(60, 64, 67, 0.15);\n",
              "      fill: #174EA6;\n",
              "    }\n",
              "\n",
              "    .colab-df-buttons div {\n",
              "      margin-bottom: 4px;\n",
              "    }\n",
              "\n",
              "    [theme=dark] .colab-df-convert {\n",
              "      background-color: #3B4455;\n",
              "      fill: #D2E3FC;\n",
              "    }\n",
              "\n",
              "    [theme=dark] .colab-df-convert:hover {\n",
              "      background-color: #434B5C;\n",
              "      box-shadow: 0px 1px 3px 1px rgba(0, 0, 0, 0.15);\n",
              "      filter: drop-shadow(0px 1px 2px rgba(0, 0, 0, 0.3));\n",
              "      fill: #FFFFFF;\n",
              "    }\n",
              "  </style>\n",
              "\n",
              "    <script>\n",
              "      const buttonEl =\n",
              "        document.querySelector('#df-13100dff-fddd-4b19-bcec-1425d10cd1a7 button.colab-df-convert');\n",
              "      buttonEl.style.display =\n",
              "        google.colab.kernel.accessAllowed ? 'block' : 'none';\n",
              "\n",
              "      async function convertToInteractive(key) {\n",
              "        const element = document.querySelector('#df-13100dff-fddd-4b19-bcec-1425d10cd1a7');\n",
              "        const dataTable =\n",
              "          await google.colab.kernel.invokeFunction('convertToInteractive',\n",
              "                                                    [key], {});\n",
              "        if (!dataTable) return;\n",
              "\n",
              "        const docLinkHtml = 'Like what you see? Visit the ' +\n",
              "          '<a target=\"_blank\" href=https://colab.research.google.com/notebooks/data_table.ipynb>data table notebook</a>'\n",
              "          + ' to learn more about interactive tables.';\n",
              "        element.innerHTML = '';\n",
              "        dataTable['output_type'] = 'display_data';\n",
              "        await google.colab.output.renderOutput(dataTable, element);\n",
              "        const docLink = document.createElement('div');\n",
              "        docLink.innerHTML = docLinkHtml;\n",
              "        element.appendChild(docLink);\n",
              "      }\n",
              "    </script>\n",
              "  </div>\n",
              "\n",
              "\n",
              "    <div id=\"df-1d50f8a4-7fa7-4a49-9cc5-537183c25faf\">\n",
              "      <button class=\"colab-df-quickchart\" onclick=\"quickchart('df-1d50f8a4-7fa7-4a49-9cc5-537183c25faf')\"\n",
              "                title=\"Suggest charts\"\n",
              "                style=\"display:none;\">\n",
              "\n",
              "<svg xmlns=\"http://www.w3.org/2000/svg\" height=\"24px\"viewBox=\"0 0 24 24\"\n",
              "     width=\"24px\">\n",
              "    <g>\n",
              "        <path d=\"M19 3H5c-1.1 0-2 .9-2 2v14c0 1.1.9 2 2 2h14c1.1 0 2-.9 2-2V5c0-1.1-.9-2-2-2zM9 17H7v-7h2v7zm4 0h-2V7h2v10zm4 0h-2v-4h2v4z\"/>\n",
              "    </g>\n",
              "</svg>\n",
              "      </button>\n",
              "\n",
              "<style>\n",
              "  .colab-df-quickchart {\n",
              "      --bg-color: #E8F0FE;\n",
              "      --fill-color: #1967D2;\n",
              "      --hover-bg-color: #E2EBFA;\n",
              "      --hover-fill-color: #174EA6;\n",
              "      --disabled-fill-color: #AAA;\n",
              "      --disabled-bg-color: #DDD;\n",
              "  }\n",
              "\n",
              "  [theme=dark] .colab-df-quickchart {\n",
              "      --bg-color: #3B4455;\n",
              "      --fill-color: #D2E3FC;\n",
              "      --hover-bg-color: #434B5C;\n",
              "      --hover-fill-color: #FFFFFF;\n",
              "      --disabled-bg-color: #3B4455;\n",
              "      --disabled-fill-color: #666;\n",
              "  }\n",
              "\n",
              "  .colab-df-quickchart {\n",
              "    background-color: var(--bg-color);\n",
              "    border: none;\n",
              "    border-radius: 50%;\n",
              "    cursor: pointer;\n",
              "    display: none;\n",
              "    fill: var(--fill-color);\n",
              "    height: 32px;\n",
              "    padding: 0;\n",
              "    width: 32px;\n",
              "  }\n",
              "\n",
              "  .colab-df-quickchart:hover {\n",
              "    background-color: var(--hover-bg-color);\n",
              "    box-shadow: 0 1px 2px rgba(60, 64, 67, 0.3), 0 1px 3px 1px rgba(60, 64, 67, 0.15);\n",
              "    fill: var(--button-hover-fill-color);\n",
              "  }\n",
              "\n",
              "  .colab-df-quickchart-complete:disabled,\n",
              "  .colab-df-quickchart-complete:disabled:hover {\n",
              "    background-color: var(--disabled-bg-color);\n",
              "    fill: var(--disabled-fill-color);\n",
              "    box-shadow: none;\n",
              "  }\n",
              "\n",
              "  .colab-df-spinner {\n",
              "    border: 2px solid var(--fill-color);\n",
              "    border-color: transparent;\n",
              "    border-bottom-color: var(--fill-color);\n",
              "    animation:\n",
              "      spin 1s steps(1) infinite;\n",
              "  }\n",
              "\n",
              "  @keyframes spin {\n",
              "    0% {\n",
              "      border-color: transparent;\n",
              "      border-bottom-color: var(--fill-color);\n",
              "      border-left-color: var(--fill-color);\n",
              "    }\n",
              "    20% {\n",
              "      border-color: transparent;\n",
              "      border-left-color: var(--fill-color);\n",
              "      border-top-color: var(--fill-color);\n",
              "    }\n",
              "    30% {\n",
              "      border-color: transparent;\n",
              "      border-left-color: var(--fill-color);\n",
              "      border-top-color: var(--fill-color);\n",
              "      border-right-color: var(--fill-color);\n",
              "    }\n",
              "    40% {\n",
              "      border-color: transparent;\n",
              "      border-right-color: var(--fill-color);\n",
              "      border-top-color: var(--fill-color);\n",
              "    }\n",
              "    60% {\n",
              "      border-color: transparent;\n",
              "      border-right-color: var(--fill-color);\n",
              "    }\n",
              "    80% {\n",
              "      border-color: transparent;\n",
              "      border-right-color: var(--fill-color);\n",
              "      border-bottom-color: var(--fill-color);\n",
              "    }\n",
              "    90% {\n",
              "      border-color: transparent;\n",
              "      border-bottom-color: var(--fill-color);\n",
              "    }\n",
              "  }\n",
              "</style>\n",
              "\n",
              "      <script>\n",
              "        async function quickchart(key) {\n",
              "          const quickchartButtonEl =\n",
              "            document.querySelector('#' + key + ' button');\n",
              "          quickchartButtonEl.disabled = true;  // To prevent multiple clicks.\n",
              "          quickchartButtonEl.classList.add('colab-df-spinner');\n",
              "          try {\n",
              "            const charts = await google.colab.kernel.invokeFunction(\n",
              "                'suggestCharts', [key], {});\n",
              "          } catch (error) {\n",
              "            console.error('Error during call to suggestCharts:', error);\n",
              "          }\n",
              "          quickchartButtonEl.classList.remove('colab-df-spinner');\n",
              "          quickchartButtonEl.classList.add('colab-df-quickchart-complete');\n",
              "        }\n",
              "        (() => {\n",
              "          let quickchartButtonEl =\n",
              "            document.querySelector('#df-1d50f8a4-7fa7-4a49-9cc5-537183c25faf button');\n",
              "          quickchartButtonEl.style.display =\n",
              "            google.colab.kernel.accessAllowed ? 'block' : 'none';\n",
              "        })();\n",
              "      </script>\n",
              "    </div>\n",
              "\n",
              "    </div>\n",
              "  </div>\n"
            ],
            "application/vnd.google.colaboratory.intrinsic+json": {
              "type": "dataframe",
              "variable_name": "train"
            }
          },
          "metadata": {},
          "execution_count": 6
        }
      ]
    },
    {
      "cell_type": "code",
      "source": [
        "train.info()"
      ],
      "metadata": {
        "colab": {
          "base_uri": "https://localhost:8080/"
        },
        "id": "VQ1kpTd4vcpJ",
        "outputId": "57752d2c-80a9-40e0-93f6-e26294292510"
      },
      "execution_count": 7,
      "outputs": [
        {
          "output_type": "stream",
          "name": "stdout",
          "text": [
            "<class 'pandas.core.frame.DataFrame'>\n",
            "RangeIndex: 75035 entries, 0 to 75034\n",
            "Data columns (total 32 columns):\n",
            " #   Column                      Non-Null Count  Dtype  \n",
            "---  ------                      --------------  -----  \n",
            " 0   ID                          75035 non-null  int64  \n",
            " 1   Alcohol Consumption         74983 non-null  object \n",
            " 2   Cancer Stage                75022 non-null  object \n",
            " 3   Country                     74985 non-null  object \n",
            " 4   Date of Birth               74975 non-null  object \n",
            " 5   Diabetes                    75021 non-null  object \n",
            " 6   Diabetes History            75035 non-null  object \n",
            " 7   Diet Risk                   74987 non-null  object \n",
            " 8   Early Detection             75005 non-null  object \n",
            " 9   Family History              74989 non-null  object \n",
            " 10  Gender                      74956 non-null  object \n",
            " 11  Genetic Mutation            75005 non-null  object \n",
            " 12  Healthcare Access           74972 non-null  object \n",
            " 13  Healthcare Costs            74982 non-null  float64\n",
            " 14  Heart Disease History       75035 non-null  object \n",
            " 15  Hypertension                75035 non-null  object \n",
            " 16  Incidence Rate per 100K     74999 non-null  float64\n",
            " 17  Inflammatory Bowel Disease  75004 non-null  object \n",
            " 18  Insurance Costs             75035 non-null  object \n",
            " 19  Insurance Status            74974 non-null  object \n",
            " 20  Marital Status              0 non-null      float64\n",
            " 21  Mortality Rate per 100K     74974 non-null  float64\n",
            " 22  Non Smoker                  75035 non-null  object \n",
            " 23  Obesity BMI                 75011 non-null  object \n",
            " 24  Physical Activity           74972 non-null  object \n",
            " 25  Screening History           74982 non-null  object \n",
            " 26  Smoking History             74974 non-null  object \n",
            " 27  Transfusion History         75035 non-null  object \n",
            " 28  Treatment Type              74972 non-null  object \n",
            " 29  Tumor Size (mm)             74962 non-null  float64\n",
            " 30  Urban or Rural              74984 non-null  object \n",
            " 31  Survival Prediction         75035 non-null  object \n",
            "dtypes: float64(5), int64(1), object(26)\n",
            "memory usage: 18.3+ MB\n"
          ]
        }
      ]
    },
    {
      "cell_type": "markdown",
      "source": [
        "<font color='grey'>Understanding the Data</font>\n",
        "\n",
        "This dataset contains **75035 rows** and **32 columns**. There are 24 variables with less than 75035 values, which indicates the presence of missing values.\n",
        "<br><br>\n",
        "\n",
        "\n",
        "**-> Insured Identifier**:\n",
        "- `ID` - Unique identifier for each patient in the dataset.\n",
        "\n",
        "\n",
        "**-> Sociodemographic Data**:\n",
        "- `Date of Birth` - Patient’s date of birth.\n",
        "- `Gender` - Patient gender (M or F).\n",
        "- `Country` - Country of origin of the patient.\n",
        "- `Urban or Rural` - Type of residential area where the patient lives.\n",
        "- `Marital Status` - Marital status of the patient.\n",
        "\n",
        "\n",
        "**-> Clinical & Genetic Data**:\n",
        "- `Cancer Stage` - Clinical cancer stage (Localized, Regional, or Metastatic).\n",
        "- `Tumor Size (mm)` - Measured size of the tumor in millimeters.\n",
        "- `Inflammatory Bowel Disease` - Whether the patient has Inflammatory Bowel Disease (Yes or No).\n",
        "-  `Genetic Mutation`- Presence of genetic mutation (Yes or No).\n",
        "- `Diabetes` = Whether the patient has diabetes (Yes or No).\n",
        "- `Diabetes History` = Whether the patient has a history of diabetes (Yes or No).\n",
        "- `Hypertension` = Whether the patient has hypertension (Yes or No).\n",
        "- `Heart Disease History` = History of heart-related diseases (Yes or No).\n",
        "\n",
        "\n",
        "**-> Lifestyle & Behavioral Data**\n",
        "- `Family History` - Family history of similar cancer (Yes or No).\n",
        "- `Smoking History` - Whether the patient is or was a smoker (Yes or No).\n",
        "- `Non Smoker` - Whether the patient is a non-smoker (Yes or No).\n",
        "- `Alcohol Consumption` - Regular alcohol consumption (Yes or No).\n",
        "- `Obesity BMI` - BMI classification (Normal, Overweight, Obese).\n",
        "- `Diet Risk` - Dietary risk level (Low, Moderate, High).\n",
        "- `Physical Activity` - Level of physical activity (Low, Moderate, High).\n",
        "\n",
        "**-> Healthcare Access & Treatment**\n",
        "- `Early Detection` - Whether the cancer was detected early (Yes or No).\n",
        "- `Treatment Type` - Type of treatment received (Surgery, Chemotherapy, Radiotherapy, or Combination).\n",
        "- `Screening History` - Frequency of cancer screenings (Regular, Irregular, Never).\n",
        "- `Transfusion History` - Whether the patient has received blood transfusions (Yes or No).\n",
        "- `Healthcare Access` - Availability of healthcare in the region (Low, Moderate, High).\n",
        "- `Insurance Status` - Whether the patient is insured or uninsured (Insured, Uninsured).\n",
        "\n",
        "**-> Health Economics**\n",
        "- `Healthcare Costs` - Total healthcare-related costs.\n",
        "- `Insurance Costs` - Type of insurance coverage (No insurance, Basic, Extended).\n",
        "\n",
        "**-> Epidemiological Context**\n",
        "- `Incidence Rate per 100K` - Country-level colorectal cancer incidence rate.\n",
        "- `Mortality Rate per 100K` - Country-level colorectal cancer mortality rate.\n",
        "\n",
        "**-> Target Variable**\n",
        "- `Survival Prediction` - Whether the patient survived or not. Only present in the training dataset.\n",
        "\n"
      ],
      "metadata": {
        "id": "UDYY1bExzK8G"
      }
    },
    {
      "cell_type": "markdown",
      "source": [
        "## <font color='#BFD72F'> 1.1 Descriptive Statistics</font>"
      ],
      "metadata": {
        "id": "AxplJyDxiHW0"
      }
    },
    {
      "cell_type": "code",
      "source": [
        "train.describe()"
      ],
      "metadata": {
        "colab": {
          "base_uri": "https://localhost:8080/",
          "height": 300
        },
        "id": "3C76DYMBiUKD",
        "outputId": "677449b2-f2dc-4c50-cfb1-a4987d1febe3"
      },
      "execution_count": 8,
      "outputs": [
        {
          "output_type": "execute_result",
          "data": {
            "text/plain": [
              "                 ID  Healthcare Costs  Incidence Rate per 100K  \\\n",
              "count  75035.000000      74982.000000             74999.000000   \n",
              "mean   37518.000000      72551.277478                34.552283   \n",
              "std    21660.883061      27536.228351                14.511506   \n",
              "min        1.000000     -69123.238747                10.000000   \n",
              "25%    18759.500000      48788.250000                22.000000   \n",
              "50%    37518.000000      72531.500000                34.000000   \n",
              "75%    56276.500000      96426.750000                47.000000   \n",
              "max    75035.000000     213690.042716               109.212990   \n",
              "\n",
              "       Marital Status  Mortality Rate per 100K  Tumor Size (mm)  \n",
              "count             0.0             74974.000000     74962.000000  \n",
              "mean              NaN                17.054440        42.054665  \n",
              "std               NaN                 7.206834        21.733090  \n",
              "min               NaN               -16.612959         5.000000  \n",
              "25%               NaN                11.000000        23.000000  \n",
              "50%               NaN                17.000000        42.000000  \n",
              "75%               NaN                23.000000        61.000000  \n",
              "max               NaN                51.679554       155.758628  "
            ],
            "text/html": [
              "\n",
              "  <div id=\"df-c5de07f4-bf76-4fc7-a9ca-0591d276a354\" class=\"colab-df-container\">\n",
              "    <div>\n",
              "<style scoped>\n",
              "    .dataframe tbody tr th:only-of-type {\n",
              "        vertical-align: middle;\n",
              "    }\n",
              "\n",
              "    .dataframe tbody tr th {\n",
              "        vertical-align: top;\n",
              "    }\n",
              "\n",
              "    .dataframe thead th {\n",
              "        text-align: right;\n",
              "    }\n",
              "</style>\n",
              "<table border=\"1\" class=\"dataframe\">\n",
              "  <thead>\n",
              "    <tr style=\"text-align: right;\">\n",
              "      <th></th>\n",
              "      <th>ID</th>\n",
              "      <th>Healthcare Costs</th>\n",
              "      <th>Incidence Rate per 100K</th>\n",
              "      <th>Marital Status</th>\n",
              "      <th>Mortality Rate per 100K</th>\n",
              "      <th>Tumor Size (mm)</th>\n",
              "    </tr>\n",
              "  </thead>\n",
              "  <tbody>\n",
              "    <tr>\n",
              "      <th>count</th>\n",
              "      <td>75035.000000</td>\n",
              "      <td>74982.000000</td>\n",
              "      <td>74999.000000</td>\n",
              "      <td>0.0</td>\n",
              "      <td>74974.000000</td>\n",
              "      <td>74962.000000</td>\n",
              "    </tr>\n",
              "    <tr>\n",
              "      <th>mean</th>\n",
              "      <td>37518.000000</td>\n",
              "      <td>72551.277478</td>\n",
              "      <td>34.552283</td>\n",
              "      <td>NaN</td>\n",
              "      <td>17.054440</td>\n",
              "      <td>42.054665</td>\n",
              "    </tr>\n",
              "    <tr>\n",
              "      <th>std</th>\n",
              "      <td>21660.883061</td>\n",
              "      <td>27536.228351</td>\n",
              "      <td>14.511506</td>\n",
              "      <td>NaN</td>\n",
              "      <td>7.206834</td>\n",
              "      <td>21.733090</td>\n",
              "    </tr>\n",
              "    <tr>\n",
              "      <th>min</th>\n",
              "      <td>1.000000</td>\n",
              "      <td>-69123.238747</td>\n",
              "      <td>10.000000</td>\n",
              "      <td>NaN</td>\n",
              "      <td>-16.612959</td>\n",
              "      <td>5.000000</td>\n",
              "    </tr>\n",
              "    <tr>\n",
              "      <th>25%</th>\n",
              "      <td>18759.500000</td>\n",
              "      <td>48788.250000</td>\n",
              "      <td>22.000000</td>\n",
              "      <td>NaN</td>\n",
              "      <td>11.000000</td>\n",
              "      <td>23.000000</td>\n",
              "    </tr>\n",
              "    <tr>\n",
              "      <th>50%</th>\n",
              "      <td>37518.000000</td>\n",
              "      <td>72531.500000</td>\n",
              "      <td>34.000000</td>\n",
              "      <td>NaN</td>\n",
              "      <td>17.000000</td>\n",
              "      <td>42.000000</td>\n",
              "    </tr>\n",
              "    <tr>\n",
              "      <th>75%</th>\n",
              "      <td>56276.500000</td>\n",
              "      <td>96426.750000</td>\n",
              "      <td>47.000000</td>\n",
              "      <td>NaN</td>\n",
              "      <td>23.000000</td>\n",
              "      <td>61.000000</td>\n",
              "    </tr>\n",
              "    <tr>\n",
              "      <th>max</th>\n",
              "      <td>75035.000000</td>\n",
              "      <td>213690.042716</td>\n",
              "      <td>109.212990</td>\n",
              "      <td>NaN</td>\n",
              "      <td>51.679554</td>\n",
              "      <td>155.758628</td>\n",
              "    </tr>\n",
              "  </tbody>\n",
              "</table>\n",
              "</div>\n",
              "    <div class=\"colab-df-buttons\">\n",
              "\n",
              "  <div class=\"colab-df-container\">\n",
              "    <button class=\"colab-df-convert\" onclick=\"convertToInteractive('df-c5de07f4-bf76-4fc7-a9ca-0591d276a354')\"\n",
              "            title=\"Convert this dataframe to an interactive table.\"\n",
              "            style=\"display:none;\">\n",
              "\n",
              "  <svg xmlns=\"http://www.w3.org/2000/svg\" height=\"24px\" viewBox=\"0 -960 960 960\">\n",
              "    <path d=\"M120-120v-720h720v720H120Zm60-500h600v-160H180v160Zm220 220h160v-160H400v160Zm0 220h160v-160H400v160ZM180-400h160v-160H180v160Zm440 0h160v-160H620v160ZM180-180h160v-160H180v160Zm440 0h160v-160H620v160Z\"/>\n",
              "  </svg>\n",
              "    </button>\n",
              "\n",
              "  <style>\n",
              "    .colab-df-container {\n",
              "      display:flex;\n",
              "      gap: 12px;\n",
              "    }\n",
              "\n",
              "    .colab-df-convert {\n",
              "      background-color: #E8F0FE;\n",
              "      border: none;\n",
              "      border-radius: 50%;\n",
              "      cursor: pointer;\n",
              "      display: none;\n",
              "      fill: #1967D2;\n",
              "      height: 32px;\n",
              "      padding: 0 0 0 0;\n",
              "      width: 32px;\n",
              "    }\n",
              "\n",
              "    .colab-df-convert:hover {\n",
              "      background-color: #E2EBFA;\n",
              "      box-shadow: 0px 1px 2px rgba(60, 64, 67, 0.3), 0px 1px 3px 1px rgba(60, 64, 67, 0.15);\n",
              "      fill: #174EA6;\n",
              "    }\n",
              "\n",
              "    .colab-df-buttons div {\n",
              "      margin-bottom: 4px;\n",
              "    }\n",
              "\n",
              "    [theme=dark] .colab-df-convert {\n",
              "      background-color: #3B4455;\n",
              "      fill: #D2E3FC;\n",
              "    }\n",
              "\n",
              "    [theme=dark] .colab-df-convert:hover {\n",
              "      background-color: #434B5C;\n",
              "      box-shadow: 0px 1px 3px 1px rgba(0, 0, 0, 0.15);\n",
              "      filter: drop-shadow(0px 1px 2px rgba(0, 0, 0, 0.3));\n",
              "      fill: #FFFFFF;\n",
              "    }\n",
              "  </style>\n",
              "\n",
              "    <script>\n",
              "      const buttonEl =\n",
              "        document.querySelector('#df-c5de07f4-bf76-4fc7-a9ca-0591d276a354 button.colab-df-convert');\n",
              "      buttonEl.style.display =\n",
              "        google.colab.kernel.accessAllowed ? 'block' : 'none';\n",
              "\n",
              "      async function convertToInteractive(key) {\n",
              "        const element = document.querySelector('#df-c5de07f4-bf76-4fc7-a9ca-0591d276a354');\n",
              "        const dataTable =\n",
              "          await google.colab.kernel.invokeFunction('convertToInteractive',\n",
              "                                                    [key], {});\n",
              "        if (!dataTable) return;\n",
              "\n",
              "        const docLinkHtml = 'Like what you see? Visit the ' +\n",
              "          '<a target=\"_blank\" href=https://colab.research.google.com/notebooks/data_table.ipynb>data table notebook</a>'\n",
              "          + ' to learn more about interactive tables.';\n",
              "        element.innerHTML = '';\n",
              "        dataTable['output_type'] = 'display_data';\n",
              "        await google.colab.output.renderOutput(dataTable, element);\n",
              "        const docLink = document.createElement('div');\n",
              "        docLink.innerHTML = docLinkHtml;\n",
              "        element.appendChild(docLink);\n",
              "      }\n",
              "    </script>\n",
              "  </div>\n",
              "\n",
              "\n",
              "    <div id=\"df-45577223-5f57-44cb-82b5-9f3268edba62\">\n",
              "      <button class=\"colab-df-quickchart\" onclick=\"quickchart('df-45577223-5f57-44cb-82b5-9f3268edba62')\"\n",
              "                title=\"Suggest charts\"\n",
              "                style=\"display:none;\">\n",
              "\n",
              "<svg xmlns=\"http://www.w3.org/2000/svg\" height=\"24px\"viewBox=\"0 0 24 24\"\n",
              "     width=\"24px\">\n",
              "    <g>\n",
              "        <path d=\"M19 3H5c-1.1 0-2 .9-2 2v14c0 1.1.9 2 2 2h14c1.1 0 2-.9 2-2V5c0-1.1-.9-2-2-2zM9 17H7v-7h2v7zm4 0h-2V7h2v10zm4 0h-2v-4h2v4z\"/>\n",
              "    </g>\n",
              "</svg>\n",
              "      </button>\n",
              "\n",
              "<style>\n",
              "  .colab-df-quickchart {\n",
              "      --bg-color: #E8F0FE;\n",
              "      --fill-color: #1967D2;\n",
              "      --hover-bg-color: #E2EBFA;\n",
              "      --hover-fill-color: #174EA6;\n",
              "      --disabled-fill-color: #AAA;\n",
              "      --disabled-bg-color: #DDD;\n",
              "  }\n",
              "\n",
              "  [theme=dark] .colab-df-quickchart {\n",
              "      --bg-color: #3B4455;\n",
              "      --fill-color: #D2E3FC;\n",
              "      --hover-bg-color: #434B5C;\n",
              "      --hover-fill-color: #FFFFFF;\n",
              "      --disabled-bg-color: #3B4455;\n",
              "      --disabled-fill-color: #666;\n",
              "  }\n",
              "\n",
              "  .colab-df-quickchart {\n",
              "    background-color: var(--bg-color);\n",
              "    border: none;\n",
              "    border-radius: 50%;\n",
              "    cursor: pointer;\n",
              "    display: none;\n",
              "    fill: var(--fill-color);\n",
              "    height: 32px;\n",
              "    padding: 0;\n",
              "    width: 32px;\n",
              "  }\n",
              "\n",
              "  .colab-df-quickchart:hover {\n",
              "    background-color: var(--hover-bg-color);\n",
              "    box-shadow: 0 1px 2px rgba(60, 64, 67, 0.3), 0 1px 3px 1px rgba(60, 64, 67, 0.15);\n",
              "    fill: var(--button-hover-fill-color);\n",
              "  }\n",
              "\n",
              "  .colab-df-quickchart-complete:disabled,\n",
              "  .colab-df-quickchart-complete:disabled:hover {\n",
              "    background-color: var(--disabled-bg-color);\n",
              "    fill: var(--disabled-fill-color);\n",
              "    box-shadow: none;\n",
              "  }\n",
              "\n",
              "  .colab-df-spinner {\n",
              "    border: 2px solid var(--fill-color);\n",
              "    border-color: transparent;\n",
              "    border-bottom-color: var(--fill-color);\n",
              "    animation:\n",
              "      spin 1s steps(1) infinite;\n",
              "  }\n",
              "\n",
              "  @keyframes spin {\n",
              "    0% {\n",
              "      border-color: transparent;\n",
              "      border-bottom-color: var(--fill-color);\n",
              "      border-left-color: var(--fill-color);\n",
              "    }\n",
              "    20% {\n",
              "      border-color: transparent;\n",
              "      border-left-color: var(--fill-color);\n",
              "      border-top-color: var(--fill-color);\n",
              "    }\n",
              "    30% {\n",
              "      border-color: transparent;\n",
              "      border-left-color: var(--fill-color);\n",
              "      border-top-color: var(--fill-color);\n",
              "      border-right-color: var(--fill-color);\n",
              "    }\n",
              "    40% {\n",
              "      border-color: transparent;\n",
              "      border-right-color: var(--fill-color);\n",
              "      border-top-color: var(--fill-color);\n",
              "    }\n",
              "    60% {\n",
              "      border-color: transparent;\n",
              "      border-right-color: var(--fill-color);\n",
              "    }\n",
              "    80% {\n",
              "      border-color: transparent;\n",
              "      border-right-color: var(--fill-color);\n",
              "      border-bottom-color: var(--fill-color);\n",
              "    }\n",
              "    90% {\n",
              "      border-color: transparent;\n",
              "      border-bottom-color: var(--fill-color);\n",
              "    }\n",
              "  }\n",
              "</style>\n",
              "\n",
              "      <script>\n",
              "        async function quickchart(key) {\n",
              "          const quickchartButtonEl =\n",
              "            document.querySelector('#' + key + ' button');\n",
              "          quickchartButtonEl.disabled = true;  // To prevent multiple clicks.\n",
              "          quickchartButtonEl.classList.add('colab-df-spinner');\n",
              "          try {\n",
              "            const charts = await google.colab.kernel.invokeFunction(\n",
              "                'suggestCharts', [key], {});\n",
              "          } catch (error) {\n",
              "            console.error('Error during call to suggestCharts:', error);\n",
              "          }\n",
              "          quickchartButtonEl.classList.remove('colab-df-spinner');\n",
              "          quickchartButtonEl.classList.add('colab-df-quickchart-complete');\n",
              "        }\n",
              "        (() => {\n",
              "          let quickchartButtonEl =\n",
              "            document.querySelector('#df-45577223-5f57-44cb-82b5-9f3268edba62 button');\n",
              "          quickchartButtonEl.style.display =\n",
              "            google.colab.kernel.accessAllowed ? 'block' : 'none';\n",
              "        })();\n",
              "      </script>\n",
              "    </div>\n",
              "\n",
              "    </div>\n",
              "  </div>\n"
            ],
            "application/vnd.google.colaboratory.intrinsic+json": {
              "type": "dataframe",
              "summary": "{\n  \"name\": \"train\",\n  \"rows\": 8,\n  \"fields\": [\n    {\n      \"column\": \"ID\",\n      \"properties\": {\n        \"dtype\": \"number\",\n        \"std\": 27042.672237793104,\n        \"min\": 1.0,\n        \"max\": 75035.0,\n        \"num_unique_values\": 6,\n        \"samples\": [\n          75035.0,\n          37518.0,\n          56276.5\n        ],\n        \"semantic_type\": \"\",\n        \"description\": \"\"\n      }\n    },\n    {\n      \"column\": \"Healthcare Costs\",\n      \"properties\": {\n        \"dtype\": \"number\",\n        \"std\": 78310.17354364769,\n        \"min\": -69123.23874705048,\n        \"max\": 213690.0427163953,\n        \"num_unique_values\": 8,\n        \"samples\": [\n          72551.27747772161,\n          72531.5,\n          74982.0\n        ],\n        \"semantic_type\": \"\",\n        \"description\": \"\"\n      }\n    },\n    {\n      \"column\": \"Incidence Rate per 100K\",\n      \"properties\": {\n        \"dtype\": \"number\",\n        \"std\": 26502.46743526714,\n        \"min\": 10.0,\n        \"max\": 74999.0,\n        \"num_unique_values\": 8,\n        \"samples\": [\n          34.55228340993944,\n          34.0,\n          74999.0\n        ],\n        \"semantic_type\": \"\",\n        \"description\": \"\"\n      }\n    },\n    {\n      \"column\": \"Marital Status\",\n      \"properties\": {\n        \"dtype\": \"number\",\n        \"std\": null,\n        \"min\": 0.0,\n        \"max\": 0.0,\n        \"num_unique_values\": 1,\n        \"samples\": [\n          0.0\n        ],\n        \"semantic_type\": \"\",\n        \"description\": \"\"\n      }\n    },\n    {\n      \"column\": \"Mortality Rate per 100K\",\n      \"properties\": {\n        \"dtype\": \"number\",\n        \"std\": 26501.746217663615,\n        \"min\": -16.612958848339,\n        \"max\": 74974.0,\n        \"num_unique_values\": 8,\n        \"samples\": [\n          17.054440267150326\n        ],\n        \"semantic_type\": \"\",\n        \"description\": \"\"\n      }\n    },\n    {\n      \"column\": \"Tumor Size (mm)\",\n      \"properties\": {\n        \"dtype\": \"number\",\n        \"std\": 26485.40441539644,\n        \"min\": 5.0,\n        \"max\": 74962.0,\n        \"num_unique_values\": 8,\n        \"samples\": [\n          42.054665003168694\n        ],\n        \"semantic_type\": \"\",\n        \"description\": \"\"\n      }\n    }\n  ]\n}"
            }
          },
          "metadata": {},
          "execution_count": 8
        }
      ]
    },
    {
      "cell_type": "code",
      "source": [
        "train.describe(include = ['O'])"
      ],
      "metadata": {
        "colab": {
          "base_uri": "https://localhost:8080/",
          "height": 293
        },
        "id": "m5Yrn6YojQYU",
        "outputId": "9e87a575-765b-4a8a-a398-bbd821672ee0"
      },
      "execution_count": 9,
      "outputs": [
        {
          "output_type": "execute_result",
          "data": {
            "text/plain": [
              "       Alcohol Consumption Cancer Stage Country Date of Birth Diabetes  \\\n",
              "count                74983        75022   74985         74975    75021   \n",
              "unique                   2            3      16         11062        2   \n",
              "top                     No     Regional     USA    09-06-1949       No   \n",
              "freq                 37510        29882   11627            19    60078   \n",
              "\n",
              "       Diabetes History Diet Risk Early Detection Family History Gender  ...  \\\n",
              "count             75035     74987           75005          74989  74956  ...   \n",
              "unique                2         3               2              2      3  ...   \n",
              "top                  No  Moderate             Yes             No      M  ...   \n",
              "freq              75025     37630           44883          52458  44999  ...   \n",
              "\n",
              "       Insurance Status Non Smoker Obesity BMI Physical Activity  \\\n",
              "count             74974      75035       75011             74972   \n",
              "unique                2          2           3                 3   \n",
              "top             Insured        Yes  Overweight          Moderate   \n",
              "freq              52776      44877       30035             29898   \n",
              "\n",
              "       Screening History Smoking History Transfusion History Treatment Type  \\\n",
              "count              74982           74974               75035          74972   \n",
              "unique                 3               2                   1              4   \n",
              "top              Regular              No                   -        Surgery   \n",
              "freq               30152           44836               75035          29882   \n",
              "\n",
              "       Urban or Rural Survival Prediction  \n",
              "count           74984               75035  \n",
              "unique              4                   2  \n",
              "top             Urban                 Yes  \n",
              "freq            49834               45069  \n",
              "\n",
              "[4 rows x 26 columns]"
            ],
            "text/html": [
              "\n",
              "  <div id=\"df-3e0af72b-97b3-4631-a6f9-6808a70db938\" class=\"colab-df-container\">\n",
              "    <div>\n",
              "<style scoped>\n",
              "    .dataframe tbody tr th:only-of-type {\n",
              "        vertical-align: middle;\n",
              "    }\n",
              "\n",
              "    .dataframe tbody tr th {\n",
              "        vertical-align: top;\n",
              "    }\n",
              "\n",
              "    .dataframe thead th {\n",
              "        text-align: right;\n",
              "    }\n",
              "</style>\n",
              "<table border=\"1\" class=\"dataframe\">\n",
              "  <thead>\n",
              "    <tr style=\"text-align: right;\">\n",
              "      <th></th>\n",
              "      <th>Alcohol Consumption</th>\n",
              "      <th>Cancer Stage</th>\n",
              "      <th>Country</th>\n",
              "      <th>Date of Birth</th>\n",
              "      <th>Diabetes</th>\n",
              "      <th>Diabetes History</th>\n",
              "      <th>Diet Risk</th>\n",
              "      <th>Early Detection</th>\n",
              "      <th>Family History</th>\n",
              "      <th>Gender</th>\n",
              "      <th>...</th>\n",
              "      <th>Insurance Status</th>\n",
              "      <th>Non Smoker</th>\n",
              "      <th>Obesity BMI</th>\n",
              "      <th>Physical Activity</th>\n",
              "      <th>Screening History</th>\n",
              "      <th>Smoking History</th>\n",
              "      <th>Transfusion History</th>\n",
              "      <th>Treatment Type</th>\n",
              "      <th>Urban or Rural</th>\n",
              "      <th>Survival Prediction</th>\n",
              "    </tr>\n",
              "  </thead>\n",
              "  <tbody>\n",
              "    <tr>\n",
              "      <th>count</th>\n",
              "      <td>74983</td>\n",
              "      <td>75022</td>\n",
              "      <td>74985</td>\n",
              "      <td>74975</td>\n",
              "      <td>75021</td>\n",
              "      <td>75035</td>\n",
              "      <td>74987</td>\n",
              "      <td>75005</td>\n",
              "      <td>74989</td>\n",
              "      <td>74956</td>\n",
              "      <td>...</td>\n",
              "      <td>74974</td>\n",
              "      <td>75035</td>\n",
              "      <td>75011</td>\n",
              "      <td>74972</td>\n",
              "      <td>74982</td>\n",
              "      <td>74974</td>\n",
              "      <td>75035</td>\n",
              "      <td>74972</td>\n",
              "      <td>74984</td>\n",
              "      <td>75035</td>\n",
              "    </tr>\n",
              "    <tr>\n",
              "      <th>unique</th>\n",
              "      <td>2</td>\n",
              "      <td>3</td>\n",
              "      <td>16</td>\n",
              "      <td>11062</td>\n",
              "      <td>2</td>\n",
              "      <td>2</td>\n",
              "      <td>3</td>\n",
              "      <td>2</td>\n",
              "      <td>2</td>\n",
              "      <td>3</td>\n",
              "      <td>...</td>\n",
              "      <td>2</td>\n",
              "      <td>2</td>\n",
              "      <td>3</td>\n",
              "      <td>3</td>\n",
              "      <td>3</td>\n",
              "      <td>2</td>\n",
              "      <td>1</td>\n",
              "      <td>4</td>\n",
              "      <td>4</td>\n",
              "      <td>2</td>\n",
              "    </tr>\n",
              "    <tr>\n",
              "      <th>top</th>\n",
              "      <td>No</td>\n",
              "      <td>Regional</td>\n",
              "      <td>USA</td>\n",
              "      <td>09-06-1949</td>\n",
              "      <td>No</td>\n",
              "      <td>No</td>\n",
              "      <td>Moderate</td>\n",
              "      <td>Yes</td>\n",
              "      <td>No</td>\n",
              "      <td>M</td>\n",
              "      <td>...</td>\n",
              "      <td>Insured</td>\n",
              "      <td>Yes</td>\n",
              "      <td>Overweight</td>\n",
              "      <td>Moderate</td>\n",
              "      <td>Regular</td>\n",
              "      <td>No</td>\n",
              "      <td>-</td>\n",
              "      <td>Surgery</td>\n",
              "      <td>Urban</td>\n",
              "      <td>Yes</td>\n",
              "    </tr>\n",
              "    <tr>\n",
              "      <th>freq</th>\n",
              "      <td>37510</td>\n",
              "      <td>29882</td>\n",
              "      <td>11627</td>\n",
              "      <td>19</td>\n",
              "      <td>60078</td>\n",
              "      <td>75025</td>\n",
              "      <td>37630</td>\n",
              "      <td>44883</td>\n",
              "      <td>52458</td>\n",
              "      <td>44999</td>\n",
              "      <td>...</td>\n",
              "      <td>52776</td>\n",
              "      <td>44877</td>\n",
              "      <td>30035</td>\n",
              "      <td>29898</td>\n",
              "      <td>30152</td>\n",
              "      <td>44836</td>\n",
              "      <td>75035</td>\n",
              "      <td>29882</td>\n",
              "      <td>49834</td>\n",
              "      <td>45069</td>\n",
              "    </tr>\n",
              "  </tbody>\n",
              "</table>\n",
              "<p>4 rows × 26 columns</p>\n",
              "</div>\n",
              "    <div class=\"colab-df-buttons\">\n",
              "\n",
              "  <div class=\"colab-df-container\">\n",
              "    <button class=\"colab-df-convert\" onclick=\"convertToInteractive('df-3e0af72b-97b3-4631-a6f9-6808a70db938')\"\n",
              "            title=\"Convert this dataframe to an interactive table.\"\n",
              "            style=\"display:none;\">\n",
              "\n",
              "  <svg xmlns=\"http://www.w3.org/2000/svg\" height=\"24px\" viewBox=\"0 -960 960 960\">\n",
              "    <path d=\"M120-120v-720h720v720H120Zm60-500h600v-160H180v160Zm220 220h160v-160H400v160Zm0 220h160v-160H400v160ZM180-400h160v-160H180v160Zm440 0h160v-160H620v160ZM180-180h160v-160H180v160Zm440 0h160v-160H620v160Z\"/>\n",
              "  </svg>\n",
              "    </button>\n",
              "\n",
              "  <style>\n",
              "    .colab-df-container {\n",
              "      display:flex;\n",
              "      gap: 12px;\n",
              "    }\n",
              "\n",
              "    .colab-df-convert {\n",
              "      background-color: #E8F0FE;\n",
              "      border: none;\n",
              "      border-radius: 50%;\n",
              "      cursor: pointer;\n",
              "      display: none;\n",
              "      fill: #1967D2;\n",
              "      height: 32px;\n",
              "      padding: 0 0 0 0;\n",
              "      width: 32px;\n",
              "    }\n",
              "\n",
              "    .colab-df-convert:hover {\n",
              "      background-color: #E2EBFA;\n",
              "      box-shadow: 0px 1px 2px rgba(60, 64, 67, 0.3), 0px 1px 3px 1px rgba(60, 64, 67, 0.15);\n",
              "      fill: #174EA6;\n",
              "    }\n",
              "\n",
              "    .colab-df-buttons div {\n",
              "      margin-bottom: 4px;\n",
              "    }\n",
              "\n",
              "    [theme=dark] .colab-df-convert {\n",
              "      background-color: #3B4455;\n",
              "      fill: #D2E3FC;\n",
              "    }\n",
              "\n",
              "    [theme=dark] .colab-df-convert:hover {\n",
              "      background-color: #434B5C;\n",
              "      box-shadow: 0px 1px 3px 1px rgba(0, 0, 0, 0.15);\n",
              "      filter: drop-shadow(0px 1px 2px rgba(0, 0, 0, 0.3));\n",
              "      fill: #FFFFFF;\n",
              "    }\n",
              "  </style>\n",
              "\n",
              "    <script>\n",
              "      const buttonEl =\n",
              "        document.querySelector('#df-3e0af72b-97b3-4631-a6f9-6808a70db938 button.colab-df-convert');\n",
              "      buttonEl.style.display =\n",
              "        google.colab.kernel.accessAllowed ? 'block' : 'none';\n",
              "\n",
              "      async function convertToInteractive(key) {\n",
              "        const element = document.querySelector('#df-3e0af72b-97b3-4631-a6f9-6808a70db938');\n",
              "        const dataTable =\n",
              "          await google.colab.kernel.invokeFunction('convertToInteractive',\n",
              "                                                    [key], {});\n",
              "        if (!dataTable) return;\n",
              "\n",
              "        const docLinkHtml = 'Like what you see? Visit the ' +\n",
              "          '<a target=\"_blank\" href=https://colab.research.google.com/notebooks/data_table.ipynb>data table notebook</a>'\n",
              "          + ' to learn more about interactive tables.';\n",
              "        element.innerHTML = '';\n",
              "        dataTable['output_type'] = 'display_data';\n",
              "        await google.colab.output.renderOutput(dataTable, element);\n",
              "        const docLink = document.createElement('div');\n",
              "        docLink.innerHTML = docLinkHtml;\n",
              "        element.appendChild(docLink);\n",
              "      }\n",
              "    </script>\n",
              "  </div>\n",
              "\n",
              "\n",
              "    <div id=\"df-0c1c02c9-c830-4fbc-8c76-6f3e503c8559\">\n",
              "      <button class=\"colab-df-quickchart\" onclick=\"quickchart('df-0c1c02c9-c830-4fbc-8c76-6f3e503c8559')\"\n",
              "                title=\"Suggest charts\"\n",
              "                style=\"display:none;\">\n",
              "\n",
              "<svg xmlns=\"http://www.w3.org/2000/svg\" height=\"24px\"viewBox=\"0 0 24 24\"\n",
              "     width=\"24px\">\n",
              "    <g>\n",
              "        <path d=\"M19 3H5c-1.1 0-2 .9-2 2v14c0 1.1.9 2 2 2h14c1.1 0 2-.9 2-2V5c0-1.1-.9-2-2-2zM9 17H7v-7h2v7zm4 0h-2V7h2v10zm4 0h-2v-4h2v4z\"/>\n",
              "    </g>\n",
              "</svg>\n",
              "      </button>\n",
              "\n",
              "<style>\n",
              "  .colab-df-quickchart {\n",
              "      --bg-color: #E8F0FE;\n",
              "      --fill-color: #1967D2;\n",
              "      --hover-bg-color: #E2EBFA;\n",
              "      --hover-fill-color: #174EA6;\n",
              "      --disabled-fill-color: #AAA;\n",
              "      --disabled-bg-color: #DDD;\n",
              "  }\n",
              "\n",
              "  [theme=dark] .colab-df-quickchart {\n",
              "      --bg-color: #3B4455;\n",
              "      --fill-color: #D2E3FC;\n",
              "      --hover-bg-color: #434B5C;\n",
              "      --hover-fill-color: #FFFFFF;\n",
              "      --disabled-bg-color: #3B4455;\n",
              "      --disabled-fill-color: #666;\n",
              "  }\n",
              "\n",
              "  .colab-df-quickchart {\n",
              "    background-color: var(--bg-color);\n",
              "    border: none;\n",
              "    border-radius: 50%;\n",
              "    cursor: pointer;\n",
              "    display: none;\n",
              "    fill: var(--fill-color);\n",
              "    height: 32px;\n",
              "    padding: 0;\n",
              "    width: 32px;\n",
              "  }\n",
              "\n",
              "  .colab-df-quickchart:hover {\n",
              "    background-color: var(--hover-bg-color);\n",
              "    box-shadow: 0 1px 2px rgba(60, 64, 67, 0.3), 0 1px 3px 1px rgba(60, 64, 67, 0.15);\n",
              "    fill: var(--button-hover-fill-color);\n",
              "  }\n",
              "\n",
              "  .colab-df-quickchart-complete:disabled,\n",
              "  .colab-df-quickchart-complete:disabled:hover {\n",
              "    background-color: var(--disabled-bg-color);\n",
              "    fill: var(--disabled-fill-color);\n",
              "    box-shadow: none;\n",
              "  }\n",
              "\n",
              "  .colab-df-spinner {\n",
              "    border: 2px solid var(--fill-color);\n",
              "    border-color: transparent;\n",
              "    border-bottom-color: var(--fill-color);\n",
              "    animation:\n",
              "      spin 1s steps(1) infinite;\n",
              "  }\n",
              "\n",
              "  @keyframes spin {\n",
              "    0% {\n",
              "      border-color: transparent;\n",
              "      border-bottom-color: var(--fill-color);\n",
              "      border-left-color: var(--fill-color);\n",
              "    }\n",
              "    20% {\n",
              "      border-color: transparent;\n",
              "      border-left-color: var(--fill-color);\n",
              "      border-top-color: var(--fill-color);\n",
              "    }\n",
              "    30% {\n",
              "      border-color: transparent;\n",
              "      border-left-color: var(--fill-color);\n",
              "      border-top-color: var(--fill-color);\n",
              "      border-right-color: var(--fill-color);\n",
              "    }\n",
              "    40% {\n",
              "      border-color: transparent;\n",
              "      border-right-color: var(--fill-color);\n",
              "      border-top-color: var(--fill-color);\n",
              "    }\n",
              "    60% {\n",
              "      border-color: transparent;\n",
              "      border-right-color: var(--fill-color);\n",
              "    }\n",
              "    80% {\n",
              "      border-color: transparent;\n",
              "      border-right-color: var(--fill-color);\n",
              "      border-bottom-color: var(--fill-color);\n",
              "    }\n",
              "    90% {\n",
              "      border-color: transparent;\n",
              "      border-bottom-color: var(--fill-color);\n",
              "    }\n",
              "  }\n",
              "</style>\n",
              "\n",
              "      <script>\n",
              "        async function quickchart(key) {\n",
              "          const quickchartButtonEl =\n",
              "            document.querySelector('#' + key + ' button');\n",
              "          quickchartButtonEl.disabled = true;  // To prevent multiple clicks.\n",
              "          quickchartButtonEl.classList.add('colab-df-spinner');\n",
              "          try {\n",
              "            const charts = await google.colab.kernel.invokeFunction(\n",
              "                'suggestCharts', [key], {});\n",
              "          } catch (error) {\n",
              "            console.error('Error during call to suggestCharts:', error);\n",
              "          }\n",
              "          quickchartButtonEl.classList.remove('colab-df-spinner');\n",
              "          quickchartButtonEl.classList.add('colab-df-quickchart-complete');\n",
              "        }\n",
              "        (() => {\n",
              "          let quickchartButtonEl =\n",
              "            document.querySelector('#df-0c1c02c9-c830-4fbc-8c76-6f3e503c8559 button');\n",
              "          quickchartButtonEl.style.display =\n",
              "            google.colab.kernel.accessAllowed ? 'block' : 'none';\n",
              "        })();\n",
              "      </script>\n",
              "    </div>\n",
              "\n",
              "    </div>\n",
              "  </div>\n"
            ],
            "application/vnd.google.colaboratory.intrinsic+json": {
              "type": "dataframe"
            }
          },
          "metadata": {},
          "execution_count": 9
        }
      ]
    },
    {
      "cell_type": "markdown",
      "source": [
        "# <font color='#BFD72F'> 2. Data Preprocessing (Train Dataset) </font>"
      ],
      "metadata": {
        "id": "Jfo_qT9N7uir"
      }
    },
    {
      "cell_type": "markdown",
      "source": [
        "## <font color='#BFD72F'> 2.1 Handling Incoherences</font>"
      ],
      "metadata": {
        "id": "9bw43bll5ecj"
      }
    },
    {
      "cell_type": "code",
      "source": [
        "train['Survival Prediction'].value_counts(dropna=False)"
      ],
      "metadata": {
        "colab": {
          "base_uri": "https://localhost:8080/",
          "height": 178
        },
        "id": "h8q--8iJ7Uor",
        "outputId": "fd2c8147-edc9-404b-ca2d-5db2b452123d"
      },
      "execution_count": 10,
      "outputs": [
        {
          "output_type": "execute_result",
          "data": {
            "text/plain": [
              "Survival Prediction\n",
              "Yes    45069\n",
              "No     29966\n",
              "Name: count, dtype: int64"
            ],
            "text/html": [
              "<div>\n",
              "<style scoped>\n",
              "    .dataframe tbody tr th:only-of-type {\n",
              "        vertical-align: middle;\n",
              "    }\n",
              "\n",
              "    .dataframe tbody tr th {\n",
              "        vertical-align: top;\n",
              "    }\n",
              "\n",
              "    .dataframe thead th {\n",
              "        text-align: right;\n",
              "    }\n",
              "</style>\n",
              "<table border=\"1\" class=\"dataframe\">\n",
              "  <thead>\n",
              "    <tr style=\"text-align: right;\">\n",
              "      <th></th>\n",
              "      <th>count</th>\n",
              "    </tr>\n",
              "    <tr>\n",
              "      <th>Survival Prediction</th>\n",
              "      <th></th>\n",
              "    </tr>\n",
              "  </thead>\n",
              "  <tbody>\n",
              "    <tr>\n",
              "      <th>Yes</th>\n",
              "      <td>45069</td>\n",
              "    </tr>\n",
              "    <tr>\n",
              "      <th>No</th>\n",
              "      <td>29966</td>\n",
              "    </tr>\n",
              "  </tbody>\n",
              "</table>\n",
              "</div><br><label><b>dtype:</b> int64</label>"
            ]
          },
          "metadata": {},
          "execution_count": 10
        }
      ]
    },
    {
      "cell_type": "code",
      "source": [
        "unique_ID = train['ID'].is_unique\n",
        "unique_ID"
      ],
      "metadata": {
        "colab": {
          "base_uri": "https://localhost:8080/"
        },
        "id": "m8u9Uho49kzA",
        "outputId": "03de9729-b9cf-4cb8-e0d4-85ed6bf749fb"
      },
      "execution_count": 11,
      "outputs": [
        {
          "output_type": "execute_result",
          "data": {
            "text/plain": [
              "True"
            ]
          },
          "metadata": {},
          "execution_count": 11
        }
      ]
    },
    {
      "cell_type": "code",
      "source": [
        "train = train.set_index('ID')"
      ],
      "metadata": {
        "id": "JOXAojvEtllR"
      },
      "execution_count": 12,
      "outputs": []
    },
    {
      "cell_type": "code",
      "source": [
        "incoherent_1 = train[(train['Non Smoker'] == 'Yes') & (train['Smoking History'] == 'Yes')]\n",
        "\n",
        "incoherent_2 = train[(train['Non Smoker'] == 'No') & (train['Smoking History'] == 'No')]\n",
        "\n",
        "print(\"Non Smoker = Yes & Smoking History = Yes:\", incoherent_1.shape[0])\n",
        "print(\"Non Smoker = No & Smoking History = No:\", incoherent_2.shape[0])\n"
      ],
      "metadata": {
        "colab": {
          "base_uri": "https://localhost:8080/"
        },
        "id": "ycgUFn8MpwIk",
        "outputId": "6dd851b6-5169-4b00-e0c0-0db08e6e718d"
      },
      "execution_count": 13,
      "outputs": [
        {
          "output_type": "stream",
          "name": "stdout",
          "text": [
            "Non Smoker = Yes & Smoking History = Yes: 0\n",
            "Non Smoker = No & Smoking History = No: 0\n"
          ]
        }
      ]
    },
    {
      "cell_type": "markdown",
      "source": [
        "A logical consistency check was performed between the variables `Non Smoker` and `Smoking History`, as it is expected that a patient who identifies as a non-smoker should not report having a smoking history. The analysis confirmed that no contradictory cases were found, indicating that the dataset is coherent in this regard."
      ],
      "metadata": {
        "id": "uaEfGyixqNtf"
      }
    },
    {
      "cell_type": "code",
      "source": [
        "negative_costs = train[train['Healthcare Costs'] < 0]\n",
        "\n",
        "print(f\"Number of patients with negative Healthcare Costs values: {negative_costs.shape[0]}\")"
      ],
      "metadata": {
        "colab": {
          "base_uri": "https://localhost:8080/"
        },
        "id": "uwVujWfGuELA",
        "outputId": "a9b6f73c-d943-4d54-8710-bd7ef0a4be1d"
      },
      "execution_count": 14,
      "outputs": [
        {
          "output_type": "stream",
          "name": "stdout",
          "text": [
            "Number of patients with negative Healthcare Costs values: 11\n"
          ]
        }
      ]
    },
    {
      "cell_type": "code",
      "source": [
        "train.loc[train['Healthcare Costs'] < 0, 'Healthcare Costs'] = np.nan"
      ],
      "metadata": {
        "id": "0gcXz03BxSPJ"
      },
      "execution_count": 15,
      "outputs": []
    },
    {
      "cell_type": "code",
      "source": [
        "negative_costs = train[train['Healthcare Costs'] < 0]\n",
        "\n",
        "print(f\"Number of patients with negative Healthcare Costs values: {negative_costs.shape[0]}\")"
      ],
      "metadata": {
        "colab": {
          "base_uri": "https://localhost:8080/"
        },
        "id": "foyJdgGvxVGB",
        "outputId": "82d191b8-4918-4620-a9cc-385aacc5c290"
      },
      "execution_count": 16,
      "outputs": [
        {
          "output_type": "stream",
          "name": "stdout",
          "text": [
            "Number of patients with negative Healthcare Costs values: 0\n"
          ]
        }
      ]
    },
    {
      "cell_type": "markdown",
      "source": [
        "A total of 11 patients were found to have negative values in the `Healthcare Costs` variable, which is invalid. These values were identified and replaced with `NaN` to ensure consistency in the dataset. They will be properly addressed later during the missing value treatment stage."
      ],
      "metadata": {
        "id": "FLJFrPryxuei"
      }
    },
    {
      "cell_type": "code",
      "source": [
        "train['Gender'].value_counts(dropna=False)"
      ],
      "metadata": {
        "colab": {
          "base_uri": "https://localhost:8080/",
          "height": 241
        },
        "id": "bLSCa04lzcZG",
        "outputId": "df592045-2d53-4d88-b3fc-1be97cd65553"
      },
      "execution_count": 17,
      "outputs": [
        {
          "output_type": "execute_result",
          "data": {
            "text/plain": [
              "Gender\n",
              "M      44999\n",
              "F      29949\n",
              "NaN       79\n",
              "P          8\n",
              "Name: count, dtype: int64"
            ],
            "text/html": [
              "<div>\n",
              "<style scoped>\n",
              "    .dataframe tbody tr th:only-of-type {\n",
              "        vertical-align: middle;\n",
              "    }\n",
              "\n",
              "    .dataframe tbody tr th {\n",
              "        vertical-align: top;\n",
              "    }\n",
              "\n",
              "    .dataframe thead th {\n",
              "        text-align: right;\n",
              "    }\n",
              "</style>\n",
              "<table border=\"1\" class=\"dataframe\">\n",
              "  <thead>\n",
              "    <tr style=\"text-align: right;\">\n",
              "      <th></th>\n",
              "      <th>count</th>\n",
              "    </tr>\n",
              "    <tr>\n",
              "      <th>Gender</th>\n",
              "      <th></th>\n",
              "    </tr>\n",
              "  </thead>\n",
              "  <tbody>\n",
              "    <tr>\n",
              "      <th>M</th>\n",
              "      <td>44999</td>\n",
              "    </tr>\n",
              "    <tr>\n",
              "      <th>F</th>\n",
              "      <td>29949</td>\n",
              "    </tr>\n",
              "    <tr>\n",
              "      <th>NaN</th>\n",
              "      <td>79</td>\n",
              "    </tr>\n",
              "    <tr>\n",
              "      <th>P</th>\n",
              "      <td>8</td>\n",
              "    </tr>\n",
              "  </tbody>\n",
              "</table>\n",
              "</div><br><label><b>dtype:</b> int64</label>"
            ]
          },
          "metadata": {},
          "execution_count": 17
        }
      ]
    },
    {
      "cell_type": "code",
      "source": [
        "train.loc[train['Gender'] == 'P', 'Gender'] = np.nan"
      ],
      "metadata": {
        "id": "PQ_alwthzqkR"
      },
      "execution_count": 18,
      "outputs": []
    },
    {
      "cell_type": "code",
      "source": [
        "train['Gender'].value_counts(dropna=False)"
      ],
      "metadata": {
        "colab": {
          "base_uri": "https://localhost:8080/",
          "height": 209
        },
        "id": "x4817VcdztIl",
        "outputId": "cf66d7a0-881f-48f3-87c2-63c3f77a75e0"
      },
      "execution_count": 19,
      "outputs": [
        {
          "output_type": "execute_result",
          "data": {
            "text/plain": [
              "Gender\n",
              "M      44999\n",
              "F      29949\n",
              "NaN       87\n",
              "Name: count, dtype: int64"
            ],
            "text/html": [
              "<div>\n",
              "<style scoped>\n",
              "    .dataframe tbody tr th:only-of-type {\n",
              "        vertical-align: middle;\n",
              "    }\n",
              "\n",
              "    .dataframe tbody tr th {\n",
              "        vertical-align: top;\n",
              "    }\n",
              "\n",
              "    .dataframe thead th {\n",
              "        text-align: right;\n",
              "    }\n",
              "</style>\n",
              "<table border=\"1\" class=\"dataframe\">\n",
              "  <thead>\n",
              "    <tr style=\"text-align: right;\">\n",
              "      <th></th>\n",
              "      <th>count</th>\n",
              "    </tr>\n",
              "    <tr>\n",
              "      <th>Gender</th>\n",
              "      <th></th>\n",
              "    </tr>\n",
              "  </thead>\n",
              "  <tbody>\n",
              "    <tr>\n",
              "      <th>M</th>\n",
              "      <td>44999</td>\n",
              "    </tr>\n",
              "    <tr>\n",
              "      <th>F</th>\n",
              "      <td>29949</td>\n",
              "    </tr>\n",
              "    <tr>\n",
              "      <th>NaN</th>\n",
              "      <td>87</td>\n",
              "    </tr>\n",
              "  </tbody>\n",
              "</table>\n",
              "</div><br><label><b>dtype:</b> int64</label>"
            ]
          },
          "metadata": {},
          "execution_count": 19
        }
      ]
    },
    {
      "cell_type": "markdown",
      "source": [
        "An inconsistency was detected in the `Gender` variable, where 8 entries were labeled as \"P\", which is not a valid category. These values were considered incoherent and replaced with `NaN` to be addressed later during the missing value treatment phase. As a result, the total number of missing values in the Gender column increased from 79 to 87."
      ],
      "metadata": {
        "id": "WBdQgAolz-z4"
      }
    },
    {
      "cell_type": "code",
      "source": [
        "negative_mortality = train[train['Mortality Rate per 100K'] < 0]\n",
        "print(f\"Number of patients with negative Mortality Rate values: {negative_mortality.shape[0]}\")"
      ],
      "metadata": {
        "colab": {
          "base_uri": "https://localhost:8080/"
        },
        "id": "FUqheRGr0xGl",
        "outputId": "06372178-3264-4406-a719-75df7b4006a4"
      },
      "execution_count": 20,
      "outputs": [
        {
          "output_type": "stream",
          "name": "stdout",
          "text": [
            "Number of patients with negative Mortality Rate values: 2\n"
          ]
        }
      ]
    },
    {
      "cell_type": "code",
      "source": [
        "train.loc[train['Mortality Rate per 100K'] < 0, 'Mortality Rate per 100K'] = np.nan"
      ],
      "metadata": {
        "id": "Ph8wmgOO02RD"
      },
      "execution_count": 21,
      "outputs": []
    },
    {
      "cell_type": "code",
      "source": [
        "negative_mortality = train[train['Mortality Rate per 100K'] < 0]\n",
        "print(f\"Number of patients with negative Mortality Rate values: {negative_mortality.shape[0]}\")"
      ],
      "metadata": {
        "colab": {
          "base_uri": "https://localhost:8080/"
        },
        "id": "QQ3iglMH03-u",
        "outputId": "da449975-2e13-4622-b04f-97d22de009cf"
      },
      "execution_count": 22,
      "outputs": [
        {
          "output_type": "stream",
          "name": "stdout",
          "text": [
            "Number of patients with negative Mortality Rate values: 0\n"
          ]
        }
      ]
    },
    {
      "cell_type": "markdown",
      "source": [
        "Two entries in the `Mortality Rate per 100K` variable were found to contain negative values, which are not valid. These values were flagged as incoherent and replaced with `NaN` to preserve data quality. They will be treated accordingly during the missing value handling phase."
      ],
      "metadata": {
        "id": "HSdPMft01Rnl"
      }
    },
    {
      "cell_type": "code",
      "source": [
        "train['Healthcare Access'].value_counts()"
      ],
      "metadata": {
        "colab": {
          "base_uri": "https://localhost:8080/",
          "height": 241
        },
        "id": "x3rNh4yec9kt",
        "outputId": "73c2d7a9-a430-43a4-ceae-13441aaa24e6"
      },
      "execution_count": 23,
      "outputs": [
        {
          "output_type": "execute_result",
          "data": {
            "text/plain": [
              "Healthcare Access\n",
              "Moderate    37197\n",
              "High        22639\n",
              "Low         15120\n",
              "?              16\n",
              "Name: count, dtype: int64"
            ],
            "text/html": [
              "<div>\n",
              "<style scoped>\n",
              "    .dataframe tbody tr th:only-of-type {\n",
              "        vertical-align: middle;\n",
              "    }\n",
              "\n",
              "    .dataframe tbody tr th {\n",
              "        vertical-align: top;\n",
              "    }\n",
              "\n",
              "    .dataframe thead th {\n",
              "        text-align: right;\n",
              "    }\n",
              "</style>\n",
              "<table border=\"1\" class=\"dataframe\">\n",
              "  <thead>\n",
              "    <tr style=\"text-align: right;\">\n",
              "      <th></th>\n",
              "      <th>count</th>\n",
              "    </tr>\n",
              "    <tr>\n",
              "      <th>Healthcare Access</th>\n",
              "      <th></th>\n",
              "    </tr>\n",
              "  </thead>\n",
              "  <tbody>\n",
              "    <tr>\n",
              "      <th>Moderate</th>\n",
              "      <td>37197</td>\n",
              "    </tr>\n",
              "    <tr>\n",
              "      <th>High</th>\n",
              "      <td>22639</td>\n",
              "    </tr>\n",
              "    <tr>\n",
              "      <th>Low</th>\n",
              "      <td>15120</td>\n",
              "    </tr>\n",
              "    <tr>\n",
              "      <th>?</th>\n",
              "      <td>16</td>\n",
              "    </tr>\n",
              "  </tbody>\n",
              "</table>\n",
              "</div><br><label><b>dtype:</b> int64</label>"
            ]
          },
          "metadata": {},
          "execution_count": 23
        }
      ]
    },
    {
      "cell_type": "code",
      "source": [
        "train['Healthcare Access'] = train['Healthcare Access'].replace('?', np.nan)"
      ],
      "metadata": {
        "id": "7w6TIFIlct4a"
      },
      "execution_count": 24,
      "outputs": []
    },
    {
      "cell_type": "code",
      "source": [
        "train['Healthcare Access'].value_counts()"
      ],
      "metadata": {
        "colab": {
          "base_uri": "https://localhost:8080/",
          "height": 209
        },
        "id": "of__2BRcdILk",
        "outputId": "09f2277e-57cf-4eb6-fad5-c3aa4b33b0e1"
      },
      "execution_count": 25,
      "outputs": [
        {
          "output_type": "execute_result",
          "data": {
            "text/plain": [
              "Healthcare Access\n",
              "Moderate    37197\n",
              "High        22639\n",
              "Low         15120\n",
              "Name: count, dtype: int64"
            ],
            "text/html": [
              "<div>\n",
              "<style scoped>\n",
              "    .dataframe tbody tr th:only-of-type {\n",
              "        vertical-align: middle;\n",
              "    }\n",
              "\n",
              "    .dataframe tbody tr th {\n",
              "        vertical-align: top;\n",
              "    }\n",
              "\n",
              "    .dataframe thead th {\n",
              "        text-align: right;\n",
              "    }\n",
              "</style>\n",
              "<table border=\"1\" class=\"dataframe\">\n",
              "  <thead>\n",
              "    <tr style=\"text-align: right;\">\n",
              "      <th></th>\n",
              "      <th>count</th>\n",
              "    </tr>\n",
              "    <tr>\n",
              "      <th>Healthcare Access</th>\n",
              "      <th></th>\n",
              "    </tr>\n",
              "  </thead>\n",
              "  <tbody>\n",
              "    <tr>\n",
              "      <th>Moderate</th>\n",
              "      <td>37197</td>\n",
              "    </tr>\n",
              "    <tr>\n",
              "      <th>High</th>\n",
              "      <td>22639</td>\n",
              "    </tr>\n",
              "    <tr>\n",
              "      <th>Low</th>\n",
              "      <td>15120</td>\n",
              "    </tr>\n",
              "  </tbody>\n",
              "</table>\n",
              "</div><br><label><b>dtype:</b> int64</label>"
            ]
          },
          "metadata": {},
          "execution_count": 25
        }
      ]
    },
    {
      "cell_type": "markdown",
      "source": [
        "In the variable `Healthcare Access`, the value `?` was identified as a placeholder for missing or undefined information. To ensure consistency in missing value handling, all occurrences of `?` were replaced with `NaN`."
      ],
      "metadata": {
        "id": "FAMj32H6dQQU"
      }
    },
    {
      "cell_type": "code",
      "source": [
        "print(train['Urban or Rural'].value_counts())"
      ],
      "metadata": {
        "colab": {
          "base_uri": "https://localhost:8080/"
        },
        "id": "eX7qpxmN3RaZ",
        "outputId": "b8282870-9d06-4ce6-f6fd-3939e1b4510d"
      },
      "execution_count": 26,
      "outputs": [
        {
          "output_type": "stream",
          "name": "stdout",
          "text": [
            "Urban or Rural\n",
            "Urban    49834\n",
            "Rural    21329\n",
            "urban     2701\n",
            "rural     1120\n",
            "Name: count, dtype: int64\n"
          ]
        }
      ]
    },
    {
      "cell_type": "code",
      "source": [
        "train['Urban or Rural'] = train['Urban or Rural'].str.capitalize()"
      ],
      "metadata": {
        "id": "JHrggtZe3WR6"
      },
      "execution_count": 27,
      "outputs": []
    },
    {
      "cell_type": "code",
      "source": [
        "print(train['Urban or Rural'].value_counts())"
      ],
      "metadata": {
        "colab": {
          "base_uri": "https://localhost:8080/"
        },
        "id": "34p8Et0K3Xxw",
        "outputId": "5c289bdb-9e2b-4441-dcdb-709b4f8a6840"
      },
      "execution_count": 28,
      "outputs": [
        {
          "output_type": "stream",
          "name": "stdout",
          "text": [
            "Urban or Rural\n",
            "Urban    52535\n",
            "Rural    22449\n",
            "Name: count, dtype: int64\n"
          ]
        }
      ]
    },
    {
      "cell_type": "markdown",
      "source": [
        "Inconsistencies were found in the `Urban or Rural` variable due to differences in letter casing (e.g., `urban` vs `Urban`).\n",
        "To correct this, all values were standardized using `.str.capitalize()`."
      ],
      "metadata": {
        "id": "m8AelsF34I_j"
      }
    },
    {
      "cell_type": "markdown",
      "source": [
        "## <font color='#BFD72F'> 2.2 Create Variable Age</font>"
      ],
      "metadata": {
        "id": "UvQr1p1U2ejv"
      }
    },
    {
      "cell_type": "code",
      "source": [
        "train['Date of Birth'] = pd.to_datetime(train['Date of Birth'], errors='coerce')\n",
        "\n",
        "current_date = datetime.now()\n",
        "train['Age'] = train['Date of Birth'].apply(lambda dob: (current_date - dob).days // 365 if pd.notnull(dob) else np.nan)\n"
      ],
      "metadata": {
        "colab": {
          "base_uri": "https://localhost:8080/"
        },
        "id": "e3GvfLCW2srq",
        "outputId": "75a8c013-bee7-4943-ab80-980b52fd69ac"
      },
      "execution_count": 29,
      "outputs": [
        {
          "output_type": "stream",
          "name": "stderr",
          "text": [
            "<ipython-input-29-9e77b929bf7d>:1: UserWarning: Parsing dates in %d-%m-%Y format when dayfirst=False (the default) was specified. Pass `dayfirst=True` or specify a format to silence this warning.\n",
            "  train['Date of Birth'] = pd.to_datetime(train['Date of Birth'], errors='coerce')\n"
          ]
        }
      ]
    },
    {
      "cell_type": "code",
      "source": [
        "train['Age'].max()"
      ],
      "metadata": {
        "colab": {
          "base_uri": "https://localhost:8080/"
        },
        "id": "PC7MOKmK3Wka",
        "outputId": "b54cc81d-b129-47c3-c1a9-15e2dfbaa1a9"
      },
      "execution_count": 30,
      "outputs": [
        {
          "output_type": "execute_result",
          "data": {
            "text/plain": [
              "89.0"
            ]
          },
          "metadata": {},
          "execution_count": 30
        }
      ]
    },
    {
      "cell_type": "code",
      "source": [
        "train['Age'].min()"
      ],
      "metadata": {
        "colab": {
          "base_uri": "https://localhost:8080/"
        },
        "id": "xRtKCfSm3a6s",
        "outputId": "5b1370f2-f42c-4352-8730-094068b84dbf"
      },
      "execution_count": 31,
      "outputs": [
        {
          "output_type": "execute_result",
          "data": {
            "text/plain": [
              "29.0"
            ]
          },
          "metadata": {},
          "execution_count": 31
        }
      ]
    },
    {
      "cell_type": "code",
      "source": [
        "plt.figure(figsize=(8, 4))\n",
        "sns.histplot(train['Age'], bins=30)\n",
        "plt.title('Distribution of Age')\n",
        "plt.xlabel('Age')\n",
        "plt.ylabel('Number of Patients')\n",
        "plt.show()"
      ],
      "metadata": {
        "colab": {
          "base_uri": "https://localhost:8080/",
          "height": 410
        },
        "id": "QSNzPPQ43eBF",
        "outputId": "2b0cc45c-92a7-4dcc-8a18-77df578c5c73"
      },
      "execution_count": 32,
      "outputs": [
        {
          "output_type": "display_data",
          "data": {
            "text/plain": [
              "<Figure size 800x400 with 1 Axes>"
            ],
            "image/png": "[encoded data removed]"
          },
          "metadata": {}
        }
      ]
    },
    {
      "cell_type": "code",
      "source": [
        "train.drop(columns='Date of Birth', inplace=True)"
      ],
      "metadata": {
        "id": "carp_1qt9ltm"
      },
      "execution_count": 33,
      "outputs": []
    },
    {
      "cell_type": "markdown",
      "source": [
        "A new variable `Age` was derived from the `Date of Birth` field by calculating the difference in years from the current date. This transformation facilitates numerical analysis and modeling by providing a more interpretable and continuous feature. The resulting Age variable ranges from 29 to 89 years old. As expected in a colorectal cancer dataset, most patients fall within the older adult population. A small number of records with missing birth dates were converted to `NaN` and will be treated in the missing value handling phase."
      ],
      "metadata": {
        "id": "IA-NxyZy4Q8v"
      }
    },
    {
      "cell_type": "markdown",
      "source": [
        "## <font color='#BFD72F'> 2.3 Data Visualization</font>"
      ],
      "metadata": {
        "id": "bRdPIi-hCELV"
      }
    },
    {
      "cell_type": "code",
      "source": [
        "plt.figure(figsize=(6,4))\n",
        "sns.countplot(x='Survival Prediction', data=train)\n",
        "plt.ylabel('Patients')\n",
        "plt.show()"
      ],
      "metadata": {
        "id": "bQerCDeFGIzY",
        "colab": {
          "base_uri": "https://localhost:8080/",
          "height": 388
        },
        "outputId": "acbab76b-5cb1-45f4-995e-bd5ec087a7b0"
      },
      "execution_count": 34,
      "outputs": [
        {
          "output_type": "display_data",
          "data": {
            "text/plain": [
              "<Figure size 600x400 with 1 Axes>"
            ],
            "image/png": "[encoded data removed]"
          },
          "metadata": {}
        }
      ]
    },
    {
      "cell_type": "markdown",
      "source": [
        "The dataset shows a moderate class imbalance, with more patients surviving than not surviving."
      ],
      "metadata": {
        "id": "VQhFWukZdHcn"
      }
    },
    {
      "cell_type": "code",
      "source": [
        "sns.histplot(train['Tumor Size (mm)'], kde=True)\n",
        "plt.title('Distribution of Tumor Size (mm)', fontsize=14)\n",
        "plt.xlabel('Tumor Size (mm)', fontsize=12)\n",
        "plt.ylabel('Number of Patients', fontsize=12)"
      ],
      "metadata": {
        "id": "MsHarjmutlf5",
        "colab": {
          "base_uri": "https://localhost:8080/",
          "height": 494
        },
        "outputId": "228534ff-530e-4fd7-8d09-b1b3d6279b77"
      },
      "execution_count": 35,
      "outputs": [
        {
          "output_type": "execute_result",
          "data": {
            "text/plain": [
              "Text(0, 0.5, 'Number of Patients')"
            ]
          },
          "metadata": {},
          "execution_count": 35
        },
        {
          "output_type": "display_data",
          "data": {
            "text/plain": [
              "<Figure size 640x480 with 1 Axes>"
            ],
            "image/png": "[encoded data removed]"
          },
          "metadata": {}
        }
      ]
    },
    {
      "cell_type": "markdown",
      "source": [
        "Most tumors are between 5 and 80 mm, with a sharp drop beyond that, indicating that extremely large tumors are rare in this dataset."
      ],
      "metadata": {
        "id": "lKby11WVcsFo"
      }
    },
    {
      "cell_type": "code",
      "source": [
        "plt.figure(figsize=(6, 4))\n",
        "sns.countplot(x='Cancer Stage', data=train, order=train['Cancer Stage'].value_counts().index)\n",
        "plt.title('Distribution of Cancer Stage')\n",
        "plt.xlabel('Cancer Stage')\n",
        "plt.ylabel('Number of Patients')\n",
        "plt.show()"
      ],
      "metadata": {
        "colab": {
          "base_uri": "https://localhost:8080/",
          "height": 410
        },
        "id": "cbWKddAQeN1K",
        "outputId": "9730ce00-001c-4a7a-d4fb-eef06699855e"
      },
      "execution_count": 36,
      "outputs": [
        {
          "output_type": "display_data",
          "data": {
            "text/plain": [
              "<Figure size 600x400 with 1 Axes>"
            ],
            "image/png": "[encoded data removed]"
          },
          "metadata": {}
        }
      ]
    },
    {
      "cell_type": "markdown",
      "source": [
        "Most patients are diagnosed at the Regional and Localized stages, with fewer cases reaching the Metastatic stage."
      ],
      "metadata": {
        "id": "pxm1eSUDfK_u"
      }
    },
    {
      "cell_type": "code",
      "source": [
        "plt.figure(figsize=(6, 4))\n",
        "sns.countplot(x='Diabetes', data=train)\n",
        "plt.title('Distribution of Diabetes')\n",
        "plt.xlabel('Diabetes')\n",
        "plt.ylabel('Number of Patients')\n",
        "plt.show()"
      ],
      "metadata": {
        "colab": {
          "base_uri": "https://localhost:8080/",
          "height": 410
        },
        "id": "LvktYar1bUY1",
        "outputId": "3630d227-04bb-44a5-9e3c-fd17393b800b"
      },
      "execution_count": 37,
      "outputs": [
        {
          "output_type": "display_data",
          "data": {
            "text/plain": [
              "<Figure size 600x400 with 1 Axes>"
            ],
            "image/png": "[encoded data removed]"
          },
          "metadata": {}
        }
      ]
    },
    {
      "cell_type": "markdown",
      "source": [
        "The majority of patients in the dataset do not have diabetes, although a notable minority does, which suggests that diabetes may be a relevant comorbidity to explore in relation to cancer survival."
      ],
      "metadata": {
        "id": "ge009LNcgAKy"
      }
    },
    {
      "cell_type": "code",
      "source": [
        "plt.figure(figsize=(6, 4))\n",
        "sns.countplot(x='Physical Activity', data=train, order=['Low', 'Moderate', 'High'])\n",
        "plt.title('Distribution of Physical Activity Level')\n",
        "plt.xlabel('Physical Activity')\n",
        "plt.ylabel('Number of Patients')\n",
        "plt.show()"
      ],
      "metadata": {
        "colab": {
          "base_uri": "https://localhost:8080/",
          "height": 410
        },
        "id": "n1qykjMRgCIn",
        "outputId": "0f98467b-92fd-423b-b9d4-91a4484e42a0"
      },
      "execution_count": 38,
      "outputs": [
        {
          "output_type": "display_data",
          "data": {
            "text/plain": [
              "<Figure size 600x400 with 1 Axes>"
            ],
            "image/png": "[encoded data removed]"
          },
          "metadata": {}
        }
      ]
    },
    {
      "cell_type": "markdown",
      "source": [
        "Most patients report a moderate level of physical activity, with low and high activity levels being similarly less common. This suggests a balanced distribution with potential relevance for survival analysis."
      ],
      "metadata": {
        "id": "rZLJUVtighWS"
      }
    },
    {
      "cell_type": "code",
      "source": [
        "plt.figure(figsize=(6, 4))\n",
        "sns.countplot(x='Obesity BMI', data=train, order=['Normal', 'Overweight', 'Obese'])\n",
        "plt.title('Distribution of BMI Classification')\n",
        "plt.xlabel('BMI')\n",
        "plt.ylabel('Number of Patients')\n",
        "plt.show()"
      ],
      "metadata": {
        "colab": {
          "base_uri": "https://localhost:8080/",
          "height": 410
        },
        "id": "zWyn3HeCgj_3",
        "outputId": "e8ac6001-c02b-42c0-fc84-ec445c05fa5f"
      },
      "execution_count": 39,
      "outputs": [
        {
          "output_type": "display_data",
          "data": {
            "text/plain": [
              "<Figure size 600x400 with 1 Axes>"
            ],
            "image/png": "[encoded data removed]"
          },
          "metadata": {}
        }
      ]
    },
    {
      "cell_type": "markdown",
      "source": [
        "Most patients fall into the Overweight category, while Normal and Obese classifications are equally less common."
      ],
      "metadata": {
        "id": "l0mozq44hVk8"
      }
    },
    {
      "cell_type": "code",
      "source": [
        "plt.figure(figsize=(6, 4))\n",
        "sns.countplot(x='Diet Risk', data=train, order=['Low', 'Moderate', 'High'])\n",
        "plt.title('Distribution of Dietary Risk')\n",
        "plt.xlabel('Diet Risk')\n",
        "plt.ylabel('Number of Patients')\n",
        "plt.show()"
      ],
      "metadata": {
        "colab": {
          "base_uri": "https://localhost:8080/",
          "height": 410
        },
        "id": "oi6Ik0jJhK8Q",
        "outputId": "12bd6f67-cba7-4a12-ec00-5bc9c5f5f64f"
      },
      "execution_count": 40,
      "outputs": [
        {
          "output_type": "display_data",
          "data": {
            "text/plain": [
              "<Figure size 600x400 with 1 Axes>"
            ],
            "image/png": "[encoded data removed]"
          },
          "metadata": {}
        }
      ]
    },
    {
      "cell_type": "code",
      "source": [
        "plt.figure(figsize=(6, 4))\n",
        "sns.countplot(x='Smoking History', data=train)\n",
        "plt.title('Distribution of Smoking History')\n",
        "plt.xlabel('Smoker')\n",
        "plt.ylabel('Number of Patients')\n",
        "plt.show()"
      ],
      "metadata": {
        "colab": {
          "base_uri": "https://localhost:8080/",
          "height": 410
        },
        "id": "3Twj0neAhjuS",
        "outputId": "ef47e2ba-3e50-44e6-efac-11cca4fd9f57"
      },
      "execution_count": 41,
      "outputs": [
        {
          "output_type": "display_data",
          "data": {
            "text/plain": [
              "<Figure size 600x400 with 1 Axes>"
            ],
            "image/png": "[encoded data removed]"
          },
          "metadata": {}
        }
      ]
    },
    {
      "cell_type": "code",
      "source": [
        "sns.boxplot(x=train['Healthcare Costs'])\n",
        "plt.title('Boxplot of Healthcare Costs')\n",
        "plt.xlabel('Healthcare Costs')\n",
        "plt.show()\n"
      ],
      "metadata": {
        "colab": {
          "base_uri": "https://localhost:8080/",
          "height": 472
        },
        "id": "EEFcevyWiub3",
        "outputId": "bbb918d7-9dde-433a-bc17-b5a0938f058b"
      },
      "execution_count": 42,
      "outputs": [
        {
          "output_type": "display_data",
          "data": {
            "text/plain": [
              "<Figure size 640x480 with 1 Axes>"
            ],
            "image/png": "[encoded data removed]"
          },
          "metadata": {}
        }
      ]
    },
    {
      "cell_type": "markdown",
      "source": [
        "Healthcare Costs show a wide range with several high-end outliers. Previously existing negative values, which were not clinically valid, have been replaced with NaN to preserve data quality. The remaining distribution appears positively skewed, with a concentration of patients below 125,000 in cost."
      ],
      "metadata": {
        "id": "m_AAavV_jMpM"
      }
    },
    {
      "cell_type": "code",
      "source": [
        "sns.boxplot(x=train['Incidence Rate per 100K'])\n",
        "plt.title('Boxplot of Incidence Rate per 100K')\n",
        "plt.xlabel('Incidence Rate per 100K')\n",
        "plt.grid(True)\n",
        "plt.show()\n"
      ],
      "metadata": {
        "colab": {
          "base_uri": "https://localhost:8080/",
          "height": 472
        },
        "id": "5C61TkScjRY0",
        "outputId": "7dc96a44-0218-44b8-ad2a-7324eca124cc"
      },
      "execution_count": 43,
      "outputs": [
        {
          "output_type": "display_data",
          "data": {
            "text/plain": [
              "<Figure size 640x480 with 1 Axes>"
            ],
            "image/png": "[encoded data removed]"
          },
          "metadata": {}
        }
      ]
    },
    {
      "cell_type": "markdown",
      "source": [
        "The majority of incidence rates range from approximately 20 to 60 cases per 100K, with several outliers exceeding 90. These high values may reflect countries with higher colorectal cancer detection or prevalence."
      ],
      "metadata": {
        "id": "Spy8eb3ol93U"
      }
    },
    {
      "cell_type": "code",
      "source": [
        "plt.figure(figsize=(7, 2))\n",
        "sns.boxplot(x=train['Mortality Rate per 100K'])\n",
        "plt.title('Boxplot of Mortality Rate per 100K')\n",
        "plt.xlabel('Mortality Rate per 100K')\n",
        "plt.grid(True)\n",
        "plt.show()\n"
      ],
      "metadata": {
        "colab": {
          "base_uri": "https://localhost:8080/",
          "height": 256
        },
        "id": "TRCuqkGSoO0-",
        "outputId": "4ed7c5ef-f7e1-49e8-93e3-002fa7e0f3a9"
      },
      "execution_count": 44,
      "outputs": [
        {
          "output_type": "display_data",
          "data": {
            "text/plain": [
              "<Figure size 700x200 with 1 Axes>"
            ],
            "image/png": "[encoded data removed]"
          },
          "metadata": {}
        }
      ]
    },
    {
      "cell_type": "markdown",
      "source": [
        "Most mortality rates lie between approximately 8 and 28 deaths per 100K, with a few outliers on the upper end."
      ],
      "metadata": {
        "id": "r-M4wo1lonMV"
      }
    },
    {
      "cell_type": "markdown",
      "source": [
        "## <font color='#BFD72F'> 2.4 Treating Unary and Empty Variables </font>"
      ],
      "metadata": {
        "id": "QLmxEnN6qaVQ"
      }
    },
    {
      "cell_type": "code",
      "source": [
        "train_unary_variables = train.columns[train.nunique() == 1]\n",
        "print('Unary Variables: ', train_unary_variables)"
      ],
      "metadata": {
        "colab": {
          "base_uri": "https://localhost:8080/"
        },
        "id": "1EzNYUdzqlIf",
        "outputId": "9fc1245b-97d1-4c3b-fa15-d62a078cc895"
      },
      "execution_count": 45,
      "outputs": [
        {
          "output_type": "stream",
          "name": "stdout",
          "text": [
            "Unary Variables:  Index(['Transfusion History'], dtype='object')\n"
          ]
        }
      ]
    },
    {
      "cell_type": "code",
      "source": [
        "train['Transfusion History'].value_counts()"
      ],
      "metadata": {
        "colab": {
          "base_uri": "https://localhost:8080/",
          "height": 147
        },
        "id": "XkJWbgAbq1rG",
        "outputId": "d55de5f1-a431-4122-9f30-3ce0e693fda5"
      },
      "execution_count": 46,
      "outputs": [
        {
          "output_type": "execute_result",
          "data": {
            "text/plain": [
              "Transfusion History\n",
              "-    75035\n",
              "Name: count, dtype: int64"
            ],
            "text/html": [
              "<div>\n",
              "<style scoped>\n",
              "    .dataframe tbody tr th:only-of-type {\n",
              "        vertical-align: middle;\n",
              "    }\n",
              "\n",
              "    .dataframe tbody tr th {\n",
              "        vertical-align: top;\n",
              "    }\n",
              "\n",
              "    .dataframe thead th {\n",
              "        text-align: right;\n",
              "    }\n",
              "</style>\n",
              "<table border=\"1\" class=\"dataframe\">\n",
              "  <thead>\n",
              "    <tr style=\"text-align: right;\">\n",
              "      <th></th>\n",
              "      <th>count</th>\n",
              "    </tr>\n",
              "    <tr>\n",
              "      <th>Transfusion History</th>\n",
              "      <th></th>\n",
              "    </tr>\n",
              "  </thead>\n",
              "  <tbody>\n",
              "    <tr>\n",
              "      <th>-</th>\n",
              "      <td>75035</td>\n",
              "    </tr>\n",
              "  </tbody>\n",
              "</table>\n",
              "</div><br><label><b>dtype:</b> int64</label>"
            ]
          },
          "metadata": {},
          "execution_count": 46
        }
      ]
    },
    {
      "cell_type": "code",
      "source": [
        "train = train.drop('Transfusion History', axis=1)"
      ],
      "metadata": {
        "id": "oaoGmsdHq6gK"
      },
      "execution_count": 47,
      "outputs": []
    },
    {
      "cell_type": "code",
      "source": [
        "empty_columns = train.columns[(train.isnull().all()) | (train.eq('').all())]\n",
        "print(\"Columns with no useful values:\", empty_columns)\n"
      ],
      "metadata": {
        "colab": {
          "base_uri": "https://localhost:8080/"
        },
        "id": "oCnGzCCSroDw",
        "outputId": "c767be5f-34f7-4bdd-d21a-ec79acec333e"
      },
      "execution_count": 48,
      "outputs": [
        {
          "output_type": "stream",
          "name": "stdout",
          "text": [
            "Columns with no useful values: Index(['Marital Status'], dtype='object')\n"
          ]
        }
      ]
    },
    {
      "cell_type": "code",
      "source": [
        "train['Marital Status'].value_counts()"
      ],
      "metadata": {
        "colab": {
          "base_uri": "https://localhost:8080/",
          "height": 115
        },
        "id": "I3ZQ75gUruSJ",
        "outputId": "6e6278cd-c891-4bc6-d5b2-f0af4fe40009"
      },
      "execution_count": 49,
      "outputs": [
        {
          "output_type": "execute_result",
          "data": {
            "text/plain": [
              "Series([], Name: count, dtype: int64)"
            ],
            "text/html": [
              "<div>\n",
              "<style scoped>\n",
              "    .dataframe tbody tr th:only-of-type {\n",
              "        vertical-align: middle;\n",
              "    }\n",
              "\n",
              "    .dataframe tbody tr th {\n",
              "        vertical-align: top;\n",
              "    }\n",
              "\n",
              "    .dataframe thead th {\n",
              "        text-align: right;\n",
              "    }\n",
              "</style>\n",
              "<table border=\"1\" class=\"dataframe\">\n",
              "  <thead>\n",
              "    <tr style=\"text-align: right;\">\n",
              "      <th></th>\n",
              "      <th>count</th>\n",
              "    </tr>\n",
              "    <tr>\n",
              "      <th>Marital Status</th>\n",
              "      <th></th>\n",
              "    </tr>\n",
              "  </thead>\n",
              "  <tbody>\n",
              "  </tbody>\n",
              "</table>\n",
              "</div><br><label><b>dtype:</b> int64</label>"
            ]
          },
          "metadata": {},
          "execution_count": 49
        }
      ]
    },
    {
      "cell_type": "code",
      "source": [
        "train = train.drop('Marital Status', axis=1)"
      ],
      "metadata": {
        "id": "Q-iXeaGYryH5"
      },
      "execution_count": 50,
      "outputs": []
    },
    {
      "cell_type": "markdown",
      "source": [
        "## <font color='#BFD72F'> 2.5 Handling Duplicate Values </font>"
      ],
      "metadata": {
        "id": "pnI_60RnsJnb"
      }
    },
    {
      "cell_type": "code",
      "source": [
        "train_duplicates = train.duplicated().sum()\n",
        "print(\"Number of Duplicate Rows:\", train_duplicates)"
      ],
      "metadata": {
        "colab": {
          "base_uri": "https://localhost:8080/"
        },
        "id": "CwA5QZTksJHo",
        "outputId": "aac440dd-d3f7-4fe5-fb29-71184652c1f3"
      },
      "execution_count": 51,
      "outputs": [
        {
          "output_type": "stream",
          "name": "stdout",
          "text": [
            "Number of Duplicate Rows: 15\n"
          ]
        }
      ]
    },
    {
      "cell_type": "markdown",
      "source": [
        "## <font color='#BFD72F'> 2.6 Treating Outliers </font>"
      ],
      "metadata": {
        "id": "GjnOj7o2tEcN"
      }
    },
    {
      "cell_type": "code",
      "source": [
        "Q1 = train['Tumor Size (mm)'].quantile(0.25)\n",
        "Q3 = train['Tumor Size (mm)'].quantile(0.75)\n",
        "IQR = Q3 - Q1\n",
        "lower = Q1 - 1.5 * IQR\n",
        "upper = Q3 + 1.5 * IQR\n",
        "\n",
        "outliers = train[(train['Tumor Size (mm)'] < lower) | (train['Tumor Size (mm)'] > upper)]\n",
        "print(f\"Number of outliers: {outliers.shape[0]}\")\n"
      ],
      "metadata": {
        "colab": {
          "base_uri": "https://localhost:8080/"
        },
        "id": "Jrsjagj863sn",
        "outputId": "2907cd18-429a-492b-f350-104bc82bc74d"
      },
      "execution_count": 52,
      "outputs": [
        {
          "output_type": "stream",
          "name": "stdout",
          "text": [
            "Number of outliers: 19\n"
          ]
        }
      ]
    },
    {
      "cell_type": "markdown",
      "source": [
        "Although 19 outliers were detected in the `Tumor Size` variable using the IQR method, they were retained in the dataset as they represent plausible clinical cases. Given that tumor size can vary significantly depending on the stage and time of diagnosis, these values may carry predictive value for survival."
      ],
      "metadata": {
        "id": "N1BL88Jy7Rb9"
      }
    },
    {
      "cell_type": "code",
      "source": [
        "Q1 = train['Healthcare Costs'].quantile(0.25)\n",
        "Q3 = train['Healthcare Costs'].quantile(0.75)\n",
        "IQR = Q3 - Q1\n",
        "\n",
        "lower = Q1 - 1.5 * IQR\n",
        "upper = Q3 + 1.5 * IQR\n",
        "\n",
        "outliers = train[(train['Healthcare Costs'] < lower) | (train['Healthcare Costs'] > upper)]\n",
        "print(f\"Number of outliers: {outliers.shape[0]}\")\n"
      ],
      "metadata": {
        "colab": {
          "base_uri": "https://localhost:8080/"
        },
        "id": "Jm1s5t9z7iXS",
        "outputId": "91bf3ae6-4eeb-4d98-e9ad-7ed4e83e569f"
      },
      "execution_count": 53,
      "outputs": [
        {
          "output_type": "stream",
          "name": "stdout",
          "text": [
            "Number of outliers: 12\n"
          ]
        }
      ]
    },
    {
      "cell_type": "code",
      "source": [
        "Q1 = train['Healthcare Costs'].quantile(0.25)\n",
        "Q3 = train['Healthcare Costs'].quantile(0.75)\n",
        "IQR = Q3 - Q1\n",
        "\n",
        "lower = Q1 - 1.5 * IQR\n",
        "upper = Q3 + 1.5 * IQR\n",
        "\n",
        "outliers = train[(train['Healthcare Costs'] < lower) | (train['Healthcare Costs'] > upper)]\n",
        "print(f\"Number of outliers: {outliers.shape[0]}\")"
      ],
      "metadata": {
        "colab": {
          "base_uri": "https://localhost:8080/"
        },
        "id": "EuFmuyal8feW",
        "outputId": "92ce395a-e7f2-4cb3-a10c-6c0c0f3e83d1"
      },
      "execution_count": 54,
      "outputs": [
        {
          "output_type": "stream",
          "name": "stdout",
          "text": [
            "Number of outliers: 12\n"
          ]
        }
      ]
    },
    {
      "cell_type": "markdown",
      "source": [
        "Outliers in the `Healthcare Costs` variable were identified using the Interquartile Range (IQR) method. A total of 12 extreme values were found outside the calculated IQR bounds. To minimize the influence of these outliers while retaining all records, a capping strategy was applied: all values below the lower bound and above the upper bound were clipped to those respective limits using NumPy's clip() function. After this transformation, no outliers remained in the distribution."
      ],
      "metadata": {
        "id": "jk-c-AM080QM"
      }
    },
    {
      "cell_type": "code",
      "source": [
        "Q1 = train['Incidence Rate per 100K'].quantile(0.25)\n",
        "Q3 = train['Incidence Rate per 100K'].quantile(0.75)\n",
        "IQR = Q3 - Q1\n",
        "\n",
        "lower = Q1 - 1.5 * IQR\n",
        "upper = Q3 + 1.5 * IQR\n",
        "\n",
        "outliers = train[(train['Incidence Rate per 100K'] < lower) | (train['Incidence Rate per 100K'] > upper)]\n",
        "print(f\"Number of outliers: {outliers.shape[0]}\")\n"
      ],
      "metadata": {
        "colab": {
          "base_uri": "https://localhost:8080/"
        },
        "id": "4lz-vPmXrnm8",
        "outputId": "b3a17bae-b63a-4121-ea12-a474a88c9ae1"
      },
      "execution_count": 55,
      "outputs": [
        {
          "output_type": "stream",
          "name": "stdout",
          "text": [
            "Number of outliers: 25\n"
          ]
        }
      ]
    },
    {
      "cell_type": "markdown",
      "source": [
        "Although 25 outliers were detected in the `Incidence Rate per 100K` variable using the IQR method, they were retained in the dataset as they represent plausible epidemiological values observed in certain countries. Applying capping could distort real-world differences in cancer incidence rates."
      ],
      "metadata": {
        "id": "ExdSSARitXgx"
      }
    },
    {
      "cell_type": "markdown",
      "source": [
        "## <font color='#BFD72F'> 2.7 Missing Values </font>"
      ],
      "metadata": {
        "id": "JPs6avP7RzDH"
      }
    },
    {
      "cell_type": "code",
      "source": [
        "train.info()"
      ],
      "metadata": {
        "colab": {
          "base_uri": "https://localhost:8080/"
        },
        "id": "TNnuzcXTRH2_",
        "outputId": "5fff5fa7-f737-4a86-922d-ef097fa42125"
      },
      "execution_count": 56,
      "outputs": [
        {
          "output_type": "stream",
          "name": "stdout",
          "text": [
            "<class 'pandas.core.frame.DataFrame'>\n",
            "Index: 75035 entries, 1 to 75035\n",
            "Data columns (total 29 columns):\n",
            " #   Column                      Non-Null Count  Dtype  \n",
            "---  ------                      --------------  -----  \n",
            " 0   Alcohol Consumption         74983 non-null  object \n",
            " 1   Cancer Stage                75022 non-null  object \n",
            " 2   Country                     74985 non-null  object \n",
            " 3   Diabetes                    75021 non-null  object \n",
            " 4   Diabetes History            75035 non-null  object \n",
            " 5   Diet Risk                   74987 non-null  object \n",
            " 6   Early Detection             75005 non-null  object \n",
            " 7   Family History              74989 non-null  object \n",
            " 8   Gender                      74948 non-null  object \n",
            " 9   Genetic Mutation            75005 non-null  object \n",
            " 10  Healthcare Access           74956 non-null  object \n",
            " 11  Healthcare Costs            74971 non-null  float64\n",
            " 12  Heart Disease History       75035 non-null  object \n",
            " 13  Hypertension                75035 non-null  object \n",
            " 14  Incidence Rate per 100K     74999 non-null  float64\n",
            " 15  Inflammatory Bowel Disease  75004 non-null  object \n",
            " 16  Insurance Costs             75035 non-null  object \n",
            " 17  Insurance Status            74974 non-null  object \n",
            " 18  Mortality Rate per 100K     74972 non-null  float64\n",
            " 19  Non Smoker                  75035 non-null  object \n",
            " 20  Obesity BMI                 75011 non-null  object \n",
            " 21  Physical Activity           74972 non-null  object \n",
            " 22  Screening History           74982 non-null  object \n",
            " 23  Smoking History             74974 non-null  object \n",
            " 24  Treatment Type              74972 non-null  object \n",
            " 25  Tumor Size (mm)             74962 non-null  float64\n",
            " 26  Urban or Rural              74984 non-null  object \n",
            " 27  Survival Prediction         75035 non-null  object \n",
            " 28  Age                         74975 non-null  float64\n",
            "dtypes: float64(5), object(24)\n",
            "memory usage: 17.2+ MB\n"
          ]
        }
      ]
    },
    {
      "cell_type": "code",
      "source": [
        "missing = train.isna().sum()\n",
        "missing = missing[missing > 0].sort_values(ascending=False)\n",
        "print(missing)"
      ],
      "metadata": {
        "colab": {
          "base_uri": "https://localhost:8080/"
        },
        "id": "Ba6uYhkjRMEu",
        "outputId": "298e50a2-c287-4776-c058-4f3c4007a082"
      },
      "execution_count": 57,
      "outputs": [
        {
          "output_type": "stream",
          "name": "stdout",
          "text": [
            "Gender                        87\n",
            "Healthcare Access             79\n",
            "Tumor Size (mm)               73\n",
            "Healthcare Costs              64\n",
            "Mortality Rate per 100K       63\n",
            "Treatment Type                63\n",
            "Physical Activity             63\n",
            "Smoking History               61\n",
            "Insurance Status              61\n",
            "Age                           60\n",
            "Screening History             53\n",
            "Alcohol Consumption           52\n",
            "Urban or Rural                51\n",
            "Country                       50\n",
            "Diet Risk                     48\n",
            "Family History                46\n",
            "Incidence Rate per 100K       36\n",
            "Inflammatory Bowel Disease    31\n",
            "Early Detection               30\n",
            "Genetic Mutation              30\n",
            "Obesity BMI                   24\n",
            "Diabetes                      14\n",
            "Cancer Stage                  13\n",
            "dtype: int64\n"
          ]
        }
      ]
    },
    {
      "cell_type": "code",
      "source": [
        "train.shape"
      ],
      "metadata": {
        "colab": {
          "base_uri": "https://localhost:8080/"
        },
        "id": "asm559koRPu4",
        "outputId": "95503ecf-2695-4487-da9e-2c158b64c80f"
      },
      "execution_count": 58,
      "outputs": [
        {
          "output_type": "execute_result",
          "data": {
            "text/plain": [
              "(75035, 29)"
            ]
          },
          "metadata": {},
          "execution_count": 58
        }
      ]
    },
    {
      "cell_type": "code",
      "source": [
        "threshold = int(train.shape[1] * 0.8)\n",
        "train = train.dropna(thresh=threshold)"
      ],
      "metadata": {
        "id": "xrntbvF4RTub"
      },
      "execution_count": 59,
      "outputs": []
    },
    {
      "cell_type": "code",
      "source": [
        "train.shape"
      ],
      "metadata": {
        "colab": {
          "base_uri": "https://localhost:8080/"
        },
        "id": "npgNI5WkRX6o",
        "outputId": "33b323c9-f56f-4d89-dc67-03476840bac5"
      },
      "execution_count": 60,
      "outputs": [
        {
          "output_type": "execute_result",
          "data": {
            "text/plain": [
              "(75035, 29)"
            ]
          },
          "metadata": {},
          "execution_count": 60
        }
      ]
    },
    {
      "cell_type": "markdown",
      "source": [
        "A threshold of 80% non-missing values was applied to remove rows with insufficient data. No rows were removed, indicating that all records had enough valid information to be retained for further analysis."
      ],
      "metadata": {
        "id": "XaYlNR1gRbdC"
      }
    },
    {
      "cell_type": "markdown",
      "source": [
        "### Treating Missing Values from the `Smoking History` column based on the consistency we used above"
      ],
      "metadata": {
        "id": "D3sLDllg-JJ1"
      }
    },
    {
      "cell_type": "code",
      "source": [
        "print(train['Smoking History'].value_counts())"
      ],
      "metadata": {
        "colab": {
          "base_uri": "https://localhost:8080/"
        },
        "id": "I-LyKovB-jQT",
        "outputId": "dfed17d3-568f-4a3c-9ab2-2c7d186bfee3"
      },
      "execution_count": 61,
      "outputs": [
        {
          "output_type": "stream",
          "name": "stdout",
          "text": [
            "Smoking History\n",
            "No     44836\n",
            "Yes    30138\n",
            "Name: count, dtype: int64\n"
          ]
        }
      ]
    },
    {
      "cell_type": "code",
      "source": [
        "train.loc[(train['Smoking History'].isnull()) & (train['Non Smoker'] == 'Yes'), 'Smoking History'] = 'No'\n",
        "train.loc[(train['Smoking History'].isnull()) & (train['Non Smoker'] == 'No'), 'Smoking History'] = 'Yes'"
      ],
      "metadata": {
        "id": "w0qRFAHk-GzM"
      },
      "execution_count": 62,
      "outputs": []
    },
    {
      "cell_type": "code",
      "source": [
        "print(train['Smoking History'].value_counts())"
      ],
      "metadata": {
        "colab": {
          "base_uri": "https://localhost:8080/"
        },
        "id": "lJy7HN0X-2bf",
        "outputId": "5b5cdc28-1399-4ed0-e3cc-cf4f02ad0718"
      },
      "execution_count": 63,
      "outputs": [
        {
          "output_type": "stream",
          "name": "stdout",
          "text": [
            "Smoking History\n",
            "No     44877\n",
            "Yes    30158\n",
            "Name: count, dtype: int64\n"
          ]
        }
      ]
    },
    {
      "cell_type": "markdown",
      "source": [
        "### Treating Missing Values with Mode and Median"
      ],
      "metadata": {
        "id": "B7OWle-182TG"
      }
    },
    {
      "cell_type": "code",
      "source": [
        "for col in ['Healthcare Costs', 'Mortality Rate per 100K', 'Incidence Rate per 100K','Age','Tumor Size (mm)']:\n",
        "    print(f\"{col} median:\", train[col].median())\n",
        "\n",
        "# Mediana de Age com arredondamento\n",
        "age_median = round(train['Age'].median())\n",
        "print(\"Age median (rounded):\", age_median)"
      ],
      "metadata": {
        "colab": {
          "base_uri": "https://localhost:8080/"
        },
        "id": "tTecZNtKHFWR",
        "outputId": "41a19fc4-8bdc-4691-a842-f6aca83f68ff"
      },
      "execution_count": 64,
      "outputs": [
        {
          "output_type": "stream",
          "name": "stdout",
          "text": [
            "Healthcare Costs median: 72533.0\n",
            "Mortality Rate per 100K median: 17.0\n",
            "Incidence Rate per 100K median: 34.0\n",
            "Age median: 69.0\n",
            "Tumor Size (mm) median: 42.0\n",
            "Age median (rounded): 69\n"
          ]
        }
      ]
    },
    {
      "cell_type": "code",
      "source": [
        "for col in ['Gender', 'Country', 'Physical Activity', 'Alcohol Consumption', 'Genetic Mutation','Insurance Status','Screening History',\n",
        "            'Diabetes', 'Early Detection','Obesity BMI','Inflammatory Bowel Disease','Diet Risk','Family History'\n",
        "            ,'Cancer Stage','Treatment Type']:\n",
        "    train[col] = train[col].fillna(train[col].mode()[0])"
      ],
      "metadata": {
        "id": "zQ_mMbnL88vD"
      },
      "execution_count": 65,
      "outputs": []
    },
    {
      "cell_type": "code",
      "source": [
        "train['Age'] = train['Age'].fillna(train['Age'].median())"
      ],
      "metadata": {
        "id": "cChVtxU0_TmU"
      },
      "execution_count": 66,
      "outputs": []
    },
    {
      "cell_type": "code",
      "source": [
        "train['Age'] = train['Age'].astype(int)"
      ],
      "metadata": {
        "id": "sj-oKlohH77V"
      },
      "execution_count": 67,
      "outputs": []
    },
    {
      "cell_type": "code",
      "source": [
        "for col in ['Healthcare Costs', 'Mortality Rate per 100K', 'Incidence Rate per 100K','Tumor Size (mm)']:\n",
        "    train[col] = train[col].fillna(train[col].median())"
      ],
      "metadata": {
        "id": "M1zu7q53GfP8"
      },
      "execution_count": 68,
      "outputs": []
    },
    {
      "cell_type": "code",
      "source": [
        "missing = train.isna().sum()\n",
        "missing = missing[missing > 0].sort_values(ascending=False)\n",
        "print(missing)"
      ],
      "metadata": {
        "colab": {
          "base_uri": "https://localhost:8080/"
        },
        "id": "zak6MH8c9Ph8",
        "outputId": "f8018e50-3ee7-4ee1-ad9c-9f50d993e99c"
      },
      "execution_count": 69,
      "outputs": [
        {
          "output_type": "stream",
          "name": "stdout",
          "text": [
            "Healthcare Access    79\n",
            "Urban or Rural       51\n",
            "dtype: int64\n"
          ]
        }
      ]
    },
    {
      "cell_type": "markdown",
      "source": [
        "Missing values in `categorical variables` were imputed using the `Mode`. Missing values in `numeric variables` were imputed using `Median`."
      ],
      "metadata": {
        "id": "7bsc-8VN9ExT"
      }
    },
    {
      "cell_type": "markdown",
      "source": [
        "### Treating Missing Values with Random Forest Classifier"
      ],
      "metadata": {
        "id": "L5rKXNh_6JrH"
      }
    },
    {
      "cell_type": "code",
      "source": [
        "print(train['Urban or Rural'].value_counts())"
      ],
      "metadata": {
        "colab": {
          "base_uri": "https://localhost:8080/"
        },
        "id": "pZYA9MKW2bGd",
        "outputId": "ebfbf4a4-e8e8-4924-df2f-c8f1b1d942f9"
      },
      "execution_count": 70,
      "outputs": [
        {
          "output_type": "stream",
          "name": "stdout",
          "text": [
            "Urban or Rural\n",
            "Urban    52535\n",
            "Rural    22449\n",
            "Name: count, dtype: int64\n"
          ]
        }
      ]
    },
    {
      "cell_type": "code",
      "source": [
        "train['Urban or Rural'] = train['Urban or Rural'].replace(np.nan, 'unknown')\n",
        "\n",
        "known_data = train[train['Urban or Rural'] != 'unknown']\n",
        "unknown_data = train[train['Urban or Rural'] == 'unknown']\n",
        "\n",
        "X_known = known_data[['Country', 'Healthcare Access', 'Insurance Status', 'Early Detection']]\n",
        "y_known = known_data['Urban or Rural']\n",
        "\n",
        "X_unknown = unknown_data[['Country', 'Healthcare Access', 'Insurance Status', 'Early Detection']]\n",
        "\n",
        "\n",
        "X_train, X_test, y_train, y_test = train_test_split(X_known, y_known, test_size=0.2, random_state=42)\n",
        "\n",
        "encoder = OneHotEncoder(handle_unknown='ignore', sparse_output=False)\n",
        "X_train_encoded = encoder.fit_transform(X_train)\n",
        "X_test_encoded = encoder.transform(X_test)\n",
        "X_unknown_encoded = encoder.transform(X_unknown)\n",
        "\n",
        "model = RandomForestClassifier(random_state=42)\n",
        "model.fit(X_train_encoded, y_train)\n",
        "\n",
        "predicted_values = model.predict(X_unknown_encoded)\n",
        "\n",
        "train.loc[train['Urban or Rural'] == 'unknown', 'Urban or Rural'] = predicted_values\n",
        "\n",
        "print(train['Urban or Rural'].value_counts())"
      ],
      "metadata": {
        "colab": {
          "base_uri": "https://localhost:8080/"
        },
        "id": "Y8CTGEeiz_Mt",
        "outputId": "baa3aed0-a1b8-4657-b94a-1cc79f050044"
      },
      "execution_count": 71,
      "outputs": [
        {
          "output_type": "stream",
          "name": "stdout",
          "text": [
            "Urban or Rural\n",
            "Urban    52586\n",
            "Rural    22449\n",
            "Name: count, dtype: int64\n"
          ]
        }
      ]
    },
    {
      "cell_type": "markdown",
      "source": [
        "To impute missing values in the `Urban or Rural`, a classification model was trained using entries with known values.\n",
        "First, missing values were temporarily replaced with `unknown`, and the dataset was split into two subsets: `known` and `unknown`.\n",
        "A `Random Forest Classifier` was then trained using relevant predictors to predict the missing labels.\n",
        "The predicted values were assigned back to the original dataset, completing the imputation with a model-based approach."
      ],
      "metadata": {
        "id": "ZHsKhYrZ53oJ"
      }
    },
    {
      "cell_type": "code",
      "source": [
        "print(train['Healthcare Access'].value_counts())"
      ],
      "metadata": {
        "colab": {
          "base_uri": "https://localhost:8080/"
        },
        "id": "E0CEJE1gBK_j",
        "outputId": "3ba699d5-d2a8-48f9-9908-3350626970eb"
      },
      "execution_count": 72,
      "outputs": [
        {
          "output_type": "stream",
          "name": "stdout",
          "text": [
            "Healthcare Access\n",
            "Moderate    37197\n",
            "High        22639\n",
            "Low         15120\n",
            "Name: count, dtype: int64\n"
          ]
        }
      ]
    },
    {
      "cell_type": "code",
      "source": [
        "train['Healthcare Access'] = train['Healthcare Access'].replace(np.nan, 'unknown')\n",
        "\n",
        "known_data = train[train['Healthcare Access'] != 'unknown']\n",
        "unknown_data = train[train['Healthcare Access'] == 'unknown']\n",
        "\n",
        "X_known = known_data[['Age', 'Cancer Stage', 'Treatment Type','Insurance Costs', 'Insurance Status', 'Urban or Rural']]\n",
        "y_known = known_data['Healthcare Access']\n",
        "\n",
        "X_unknown = unknown_data[['Age', 'Cancer Stage', 'Treatment Type','Insurance Costs', 'Insurance Status', 'Urban or Rural']]\n",
        "\n",
        "X_train, X_test, y_train, y_test = train_test_split(X_known, y_known, test_size=0.2, random_state=42)\n",
        "\n",
        "encoder = OneHotEncoder(handle_unknown='ignore', sparse_output=False)\n",
        "X_train_encoded = encoder.fit_transform(X_train)\n",
        "X_test_encoded = encoder.transform(X_test)\n",
        "X_unknown_encoded = encoder.transform(X_unknown)\n",
        "\n",
        "model = RandomForestClassifier(random_state=42)\n",
        "model.fit(X_train_encoded, y_train)\n",
        "\n",
        "predicted_values = model.predict(X_unknown_encoded)\n",
        "\n",
        "train.loc[train['Healthcare Access'] == 'unknown', 'Healthcare Access'] = predicted_values\n",
        "\n",
        "print(train['Healthcare Access'].value_counts())"
      ],
      "metadata": {
        "colab": {
          "base_uri": "https://localhost:8080/"
        },
        "id": "UwZs5Z9h7adR",
        "outputId": "da25d070-0e9d-4aaf-b446-19ef41d99f57"
      },
      "execution_count": 73,
      "outputs": [
        {
          "output_type": "stream",
          "name": "stdout",
          "text": [
            "Healthcare Access\n",
            "Moderate    37249\n",
            "High        22659\n",
            "Low         15127\n",
            "Name: count, dtype: int64\n"
          ]
        }
      ]
    },
    {
      "cell_type": "markdown",
      "source": [
        "## <font color='#BFD72F'> 2.8 Encoding Categorical Variables </font>"
      ],
      "metadata": {
        "id": "ScSIjuiiOkUH"
      }
    },
    {
      "cell_type": "code",
      "source": [
        "train.info()"
      ],
      "metadata": {
        "colab": {
          "base_uri": "https://localhost:8080/"
        },
        "id": "8ts02zZqO47W",
        "outputId": "1601b04a-f901-4759-f530-1c03e17c0227"
      },
      "execution_count": 74,
      "outputs": [
        {
          "output_type": "stream",
          "name": "stdout",
          "text": [
            "<class 'pandas.core.frame.DataFrame'>\n",
            "Index: 75035 entries, 1 to 75035\n",
            "Data columns (total 29 columns):\n",
            " #   Column                      Non-Null Count  Dtype  \n",
            "---  ------                      --------------  -----  \n",
            " 0   Alcohol Consumption         75035 non-null  object \n",
            " 1   Cancer Stage                75035 non-null  object \n",
            " 2   Country                     75035 non-null  object \n",
            " 3   Diabetes                    75035 non-null  object \n",
            " 4   Diabetes History            75035 non-null  object \n",
            " 5   Diet Risk                   75035 non-null  object \n",
            " 6   Early Detection             75035 non-null  object \n",
            " 7   Family History              75035 non-null  object \n",
            " 8   Gender                      75035 non-null  object \n",
            " 9   Genetic Mutation            75035 non-null  object \n",
            " 10  Healthcare Access           75035 non-null  object \n",
            " 11  Healthcare Costs            75035 non-null  float64\n",
            " 12  Heart Disease History       75035 non-null  object \n",
            " 13  Hypertension                75035 non-null  object \n",
            " 14  Incidence Rate per 100K     75035 non-null  float64\n",
            " 15  Inflammatory Bowel Disease  75035 non-null  object \n",
            " 16  Insurance Costs             75035 non-null  object \n",
            " 17  Insurance Status            75035 non-null  object \n",
            " 18  Mortality Rate per 100K     75035 non-null  float64\n",
            " 19  Non Smoker                  75035 non-null  object \n",
            " 20  Obesity BMI                 75035 non-null  object \n",
            " 21  Physical Activity           75035 non-null  object \n",
            " 22  Screening History           75035 non-null  object \n",
            " 23  Smoking History             75035 non-null  object \n",
            " 24  Treatment Type              75035 non-null  object \n",
            " 25  Tumor Size (mm)             75035 non-null  float64\n",
            " 26  Urban or Rural              75035 non-null  object \n",
            " 27  Survival Prediction         75035 non-null  object \n",
            " 28  Age                         75035 non-null  int64  \n",
            "dtypes: float64(4), int64(1), object(24)\n",
            "memory usage: 17.2+ MB\n"
          ]
        }
      ]
    },
    {
      "cell_type": "code",
      "source": [
        "binary_map = {'Yes': 1, 'No': 0}\n",
        "gender_map = {'M': 1, 'F': 0}\n",
        "insurance_status_map = {'Insured': 1, 'Uninsured': 0}\n",
        "residence_map = {'Urban': 1, 'Rural': 0}\n",
        "level_map = {'Low': 0, 'Moderate': 1, 'High': 2}\n",
        "obesity_map = {'Normal': 0, 'Overweight': 1, 'Obese': 2}\n",
        "screening_map = {'Never': 0, 'Irregular': 1, 'Regular': 2}\n",
        "diet_risk_map = {'Low': 0, 'Moderate': 1, 'High': 2}\n",
        "cancer_stage_map = {'Localized': 0, 'Regional': 1, 'Metastatic': 2}\n",
        "insurance_costs_map = {'No insurance': 0, 'Basic': 1, 'Extended': 2}\n",
        "\n",
        "train['Gender'] = train['Gender'].map(gender_map)\n",
        "train['Insurance Status'] = train['Insurance Status'].map(insurance_status_map)\n",
        "train['Urban or Rural'] = train['Urban or Rural'].map(residence_map)\n",
        "train['Healthcare Access'] = train['Healthcare Access'].map(level_map)\n",
        "train['Obesity BMI'] = train['Obesity BMI'].map(obesity_map)\n",
        "train['Screening History'] = train['Screening History'].map(screening_map)\n",
        "train['Diet Risk'] = train['Diet Risk'].map(diet_risk_map)\n",
        "train['Cancer Stage'] = train['Cancer Stage'].map(cancer_stage_map)\n",
        "train['Insurance Costs'] = train['Insurance Costs'].map(insurance_costs_map)\n",
        "train['Physical Activity'] = train['Physical Activity'].map(level_map)\n",
        "\n",
        "\n",
        "binary_columns = ['Alcohol Consumption', 'Genetic Mutation', 'Diabetes', 'Diabetes History',\n",
        "                  'Family History', 'Inflammatory Bowel Disease', 'Early Detection',\n",
        "                  'Hypertension', 'Heart Disease History', 'Non Smoker', 'Smoking History']\n",
        "\n",
        "for col in binary_columns:\n",
        "    train[col] = train[col].map(binary_map)\n"
      ],
      "metadata": {
        "id": "Eo1go7STOy3E"
      },
      "execution_count": 75,
      "outputs": []
    },
    {
      "cell_type": "markdown",
      "source": [
        "All categorical variables were converted into numerical format to enable compatibility with machine learning algorithms."
      ],
      "metadata": {
        "id": "B-8J2zs-P3ra"
      }
    },
    {
      "cell_type": "code",
      "source": [
        "#nominal_cols = ['Country', 'Treatment Type']\n",
        "nominal_cols = ['Treatment Type']\n",
        "\n",
        "encoder = OneHotEncoder(handle_unknown='ignore', sparse_output=False)\n",
        "\n",
        "encoded_nominals = encoder.fit_transform(train[nominal_cols])\n",
        "\n",
        "encoded_df = pd.DataFrame(encoded_nominals, columns=encoder.get_feature_names_out(nominal_cols), index=train.index)\n",
        "\n",
        "train = pd.concat([train.drop(columns=nominal_cols), encoded_df], axis=1)\n"
      ],
      "metadata": {
        "id": "RG4i84UMPuQV"
      },
      "execution_count": 76,
      "outputs": []
    },
    {
      "cell_type": "code",
      "source": [
        "train = train.drop('Country', axis=1)"
      ],
      "metadata": {
        "id": "K2noqhCj9Hbg"
      },
      "execution_count": 77,
      "outputs": []
    },
    {
      "cell_type": "markdown",
      "source": [
        "We initially applied One-Hot Encoding to the Country variable, but later decided to remove it. The encoding generated many additional columns, which could harm model performance due to increased dimensionality. Since we already have related variables like `Incidence Rate per 100K`, `Mortality Rate per 100K`, and `Healthcare Access`, we considered Country redundant and excluded it to simplify the feature space."
      ],
      "metadata": {
        "id": "PV69Kbze5EBx"
      }
    },
    {
      "cell_type": "code",
      "source": [
        "train.info()"
      ],
      "metadata": {
        "colab": {
          "base_uri": "https://localhost:8080/"
        },
        "id": "rlZucr_jP9DG",
        "outputId": "9be89e16-9561-40dc-8597-29e114ac6e12"
      },
      "execution_count": 78,
      "outputs": [
        {
          "output_type": "stream",
          "name": "stdout",
          "text": [
            "<class 'pandas.core.frame.DataFrame'>\n",
            "Index: 75035 entries, 1 to 75035\n",
            "Data columns (total 31 columns):\n",
            " #   Column                       Non-Null Count  Dtype  \n",
            "---  ------                       --------------  -----  \n",
            " 0   Alcohol Consumption          75035 non-null  int64  \n",
            " 1   Cancer Stage                 75035 non-null  int64  \n",
            " 2   Diabetes                     75035 non-null  int64  \n",
            " 3   Diabetes History             75035 non-null  int64  \n",
            " 4   Diet Risk                    75035 non-null  int64  \n",
            " 5   Early Detection              75035 non-null  int64  \n",
            " 6   Family History               75035 non-null  int64  \n",
            " 7   Gender                       75035 non-null  int64  \n",
            " 8   Genetic Mutation             75035 non-null  int64  \n",
            " 9   Healthcare Access            75035 non-null  int64  \n",
            " 10  Healthcare Costs             75035 non-null  float64\n",
            " 11  Heart Disease History        75035 non-null  int64  \n",
            " 12  Hypertension                 75035 non-null  int64  \n",
            " 13  Incidence Rate per 100K      75035 non-null  float64\n",
            " 14  Inflammatory Bowel Disease   75035 non-null  int64  \n",
            " 15  Insurance Costs              75035 non-null  int64  \n",
            " 16  Insurance Status             75035 non-null  int64  \n",
            " 17  Mortality Rate per 100K      75035 non-null  float64\n",
            " 18  Non Smoker                   75035 non-null  int64  \n",
            " 19  Obesity BMI                  75035 non-null  int64  \n",
            " 20  Physical Activity            75035 non-null  int64  \n",
            " 21  Screening History            75035 non-null  int64  \n",
            " 22  Smoking History              75035 non-null  int64  \n",
            " 23  Tumor Size (mm)              75035 non-null  float64\n",
            " 24  Urban or Rural               75035 non-null  int64  \n",
            " 25  Survival Prediction          75035 non-null  object \n",
            " 26  Age                          75035 non-null  int64  \n",
            " 27  Treatment Type_Chemotherapy  75035 non-null  float64\n",
            " 28  Treatment Type_Combination   75035 non-null  float64\n",
            " 29  Treatment Type_Radiotherapy  75035 non-null  float64\n",
            " 30  Treatment Type_Surgery       75035 non-null  float64\n",
            "dtypes: float64(8), int64(22), object(1)\n",
            "memory usage: 18.3+ MB\n"
          ]
        }
      ]
    },
    {
      "cell_type": "markdown",
      "source": [
        "## <font color='#BFD72F'> 2.9 Feature Engineering </font>"
      ],
      "metadata": {
        "id": "DP8huDWNQuu5"
      }
    },
    {
      "cell_type": "code",
      "source": [
        "train['Total Risk Factors'] = (\n",
        "    train['Smoking History'] + train['Alcohol Consumption'] +\n",
        "    train['Hypertension'] + train['Diabetes'] + train['Heart Disease History'] +\n",
        "    train['Inflammatory Bowel Disease'] + train['Obesity BMI']\n",
        ")"
      ],
      "metadata": {
        "id": "P_Imn58hQ07t"
      },
      "execution_count": 79,
      "outputs": []
    },
    {
      "cell_type": "code",
      "source": [
        "scaler = MinMaxScaler()\n",
        "train['Total Risk Factors'] = scaler.fit_transform(train[['Total Risk Factors']])"
      ],
      "metadata": {
        "id": "NqEMdRYKAuEh"
      },
      "execution_count": 80,
      "outputs": []
    },
    {
      "cell_type": "code",
      "source": [
        "print(train['Total Risk Factors'].value_counts())"
      ],
      "metadata": {
        "colab": {
          "base_uri": "https://localhost:8080/"
        },
        "id": "mFWM2_v1AyN6",
        "outputId": "da1b51a6-07af-412c-d6c6-19ff2426e80f"
      },
      "execution_count": 81,
      "outputs": [
        {
          "output_type": "stream",
          "name": "stdout",
          "text": [
            "Total Risk Factors\n",
            "0.250    21736\n",
            "0.375    20760\n",
            "0.125    13083\n",
            "0.500    11767\n",
            "0.625     3539\n",
            "0.000     3469\n",
            "0.750      630\n",
            "0.875       49\n",
            "1.000        2\n",
            "Name: count, dtype: int64\n"
          ]
        }
      ]
    },
    {
      "cell_type": "markdown",
      "source": [
        "This feature aggregates several binary clinical and lifestyle risk indicators into a single count."
      ],
      "metadata": {
        "id": "CiL_8peDfGLY"
      }
    },
    {
      "cell_type": "markdown",
      "source": [
        "# <font color='#BFD72F'> 3. Train-Validation Split (80%-20%)</font>"
      ],
      "metadata": {
        "id": "vBeFIMxSkF5i"
      }
    },
    {
      "cell_type": "code",
      "source": [
        "train['Survival Prediction'] = train['Survival Prediction'].map({'Yes': 1, 'No': 0})\n",
        "train['Survival Prediction'] = train['Survival Prediction'].astype(int)"
      ],
      "metadata": {
        "id": "2qHhycHBmdTN"
      },
      "execution_count": 82,
      "outputs": []
    },
    {
      "cell_type": "code",
      "source": [
        "corr_target = train.corr()['Survival Prediction'].drop('Survival Prediction').sort_values()\n",
        "\n",
        "plt.figure(figsize=(10, 12))\n",
        "sns.heatmap(corr_target.to_frame(), annot=True, cmap='coolwarm', vmin=-1, vmax=1, cbar=True)\n",
        "plt.title(\"Correlation of Features with Survival Prediction\", fontsize=14)\n",
        "plt.show()\n"
      ],
      "metadata": {
        "colab": {
          "base_uri": "https://localhost:8080/",
          "height": 1000
        },
        "id": "4E-pMGq_pr8t",
        "outputId": "2276491b-8f7b-468f-980d-6b62c3a98c4f"
      },
      "execution_count": 83,
      "outputs": [
        {
          "output_type": "display_data",
          "data": {
            "text/plain": [
              "<Figure size 1000x1200 with 2 Axes>"
            ],
            "image/png": "[encoded data removed]"
          },
          "metadata": {}
        }
      ]
    },
    {
      "cell_type": "markdown",
      "source": [
        "By the above heatmap we can see that none of the variables are highly correlated with the target variable."
      ],
      "metadata": {
        "id": "t-g0_A7LqGA8"
      }
    },
    {
      "cell_type": "code",
      "source": [
        "corr_matrix = train.drop(columns='Survival Prediction').corr()\n",
        "\n",
        "upper_triangle = corr_matrix.where(np.triu(np.ones(corr_matrix.shape), k=1).astype(bool))\n",
        "\n",
        "high_corr_pairs = []\n",
        "\n",
        "for col1 in upper_triangle.columns:\n",
        "    for col2 in upper_triangle.columns:\n",
        "        value = upper_triangle.loc[col1, col2]\n",
        "        if abs(value) > 0.9:\n",
        "            high_corr_pairs.append((col1, col2, value))\n",
        "\n",
        "for col1, col2, value in high_corr_pairs:\n",
        "    print(f\"{col1} ↔ {col2} | correlation: {value:.2f}\")\n",
        "\n"
      ],
      "metadata": {
        "colab": {
          "base_uri": "https://localhost:8080/"
        },
        "id": "l4t_2aeJqe9s",
        "outputId": "c77c7408-f48a-4cbb-fde6-7847fc6e504c"
      },
      "execution_count": 84,
      "outputs": [
        {
          "output_type": "stream",
          "name": "stdout",
          "text": [
            "Non Smoker ↔ Smoking History | correlation: -1.00\n"
          ]
        }
      ]
    },
    {
      "cell_type": "code",
      "source": [
        "train = train.drop(columns=['Non Smoker'])"
      ],
      "metadata": {
        "id": "2BFvckzQsilv"
      },
      "execution_count": 85,
      "outputs": []
    },
    {
      "cell_type": "markdown",
      "source": [
        "We removed the feature `Non Smoker` because it is perfectly negatively correlated `(r = –1.00)` with `Smoking History`. These two binary variables are exact opposites, so keeping both would introduce unnecessary redundancy. We kept `Smoking History` and dropped `Non Smoker` to reduce multicollinearity."
      ],
      "metadata": {
        "id": "qlHmkJQ5sYxq"
      }
    },
    {
      "cell_type": "code",
      "source": [
        "train_split = train"
      ],
      "metadata": {
        "id": "VwvdsDnbwgMm"
      },
      "execution_count": 86,
      "outputs": []
    },
    {
      "cell_type": "code",
      "source": [
        "X = train_split.drop('Survival Prediction', axis = 1)\n",
        "y = train_split['Survival Prediction']"
      ],
      "metadata": {
        "id": "8b7PpU8WwVk5"
      },
      "execution_count": 87,
      "outputs": []
    },
    {
      "cell_type": "code",
      "source": [
        "X_train, X_val, y_train, y_val = train_test_split(X, y, test_size=0.2, random_state=42)"
      ],
      "metadata": {
        "id": "oyZ35jESxyGu"
      },
      "execution_count": 88,
      "outputs": []
    },
    {
      "cell_type": "code",
      "source": [
        "train_split.head()"
      ],
      "metadata": {
        "colab": {
          "base_uri": "https://localhost:8080/",
          "height": 321
        },
        "id": "wc4GiS4Ux0en",
        "outputId": "e8b99f83-dfe5-4b31-9ce5-61eb66144537"
      },
      "execution_count": 89,
      "outputs": [
        {
          "output_type": "execute_result",
          "data": {
            "text/plain": [
              "    Alcohol Consumption  Cancer Stage  Diabetes  Diabetes History  Diet Risk  \\\n",
              "ID                                                                             \n",
              "1                     0             0         0                 0          1   \n",
              "2                     0             1         0                 0          0   \n",
              "3                     0             0         0                 0          0   \n",
              "4                     1             0         1                 0          1   \n",
              "5                     0             1         0                 0          1   \n",
              "\n",
              "    Early Detection  Family History  Gender  Genetic Mutation  \\\n",
              "ID                                                              \n",
              "1                 0               0       1                 0   \n",
              "2                 0               0       1                 0   \n",
              "3                 1               0       1                 0   \n",
              "4                 0               0       1                 0   \n",
              "5                 1               1       1                 0   \n",
              "\n",
              "    Healthcare Access  ...  Smoking History  Tumor Size (mm)  Urban or Rural  \\\n",
              "ID                     ...                                                     \n",
              "1                   2  ...                0             33.0               1   \n",
              "2                   1  ...                1             17.0               1   \n",
              "3                   2  ...                1             34.0               1   \n",
              "4                   1  ...                0             71.0               1   \n",
              "5                   0  ...                0             48.0               0   \n",
              "\n",
              "    Survival Prediction  Age  Treatment Type_Chemotherapy  \\\n",
              "ID                                                          \n",
              "1                     1   59                          1.0   \n",
              "2                     0   66                          1.0   \n",
              "3                     1   66                          0.0   \n",
              "4                     0   69                          0.0   \n",
              "5                     1   50                          0.0   \n",
              "\n",
              "    Treatment Type_Combination  Treatment Type_Radiotherapy  \\\n",
              "ID                                                            \n",
              "1                          0.0                          0.0   \n",
              "2                          0.0                          0.0   \n",
              "3                          0.0                          0.0   \n",
              "4                          0.0                          1.0   \n",
              "5                          0.0                          1.0   \n",
              "\n",
              "    Treatment Type_Surgery  Total Risk Factors  \n",
              "ID                                              \n",
              "1                      0.0               0.250  \n",
              "2                      0.0               0.250  \n",
              "3                      1.0               0.250  \n",
              "4                      0.0               0.625  \n",
              "5                      0.0               0.125  \n",
              "\n",
              "[5 rows x 31 columns]"
            ],
            "text/html": [
              "\n",
              "  <div id=\"df-b54388fd-58a9-458f-8558-782fa3292905\" class=\"colab-df-container\">\n",
              "    <div>\n",
              "<style scoped>\n",
              "    .dataframe tbody tr th:only-of-type {\n",
              "        vertical-align: middle;\n",
              "    }\n",
              "\n",
              "    .dataframe tbody tr th {\n",
              "        vertical-align: top;\n",
              "    }\n",
              "\n",
              "    .dataframe thead th {\n",
              "        text-align: right;\n",
              "    }\n",
              "</style>\n",
              "<table border=\"1\" class=\"dataframe\">\n",
              "  <thead>\n",
              "    <tr style=\"text-align: right;\">\n",
              "      <th></th>\n",
              "      <th>Alcohol Consumption</th>\n",
              "      <th>Cancer Stage</th>\n",
              "      <th>Diabetes</th>\n",
              "      <th>Diabetes History</th>\n",
              "      <th>Diet Risk</th>\n",
              "      <th>Early Detection</th>\n",
              "      <th>Family History</th>\n",
              "      <th>Gender</th>\n",
              "      <th>Genetic Mutation</th>\n",
              "      <th>Healthcare Access</th>\n",
              "      <th>...</th>\n",
              "      <th>Smoking History</th>\n",
              "      <th>Tumor Size (mm)</th>\n",
              "      <th>Urban or Rural</th>\n",
              "      <th>Survival Prediction</th>\n",
              "      <th>Age</th>\n",
              "      <th>Treatment Type_Chemotherapy</th>\n",
              "      <th>Treatment Type_Combination</th>\n",
              "      <th>Treatment Type_Radiotherapy</th>\n",
              "      <th>Treatment Type_Surgery</th>\n",
              "      <th>Total Risk Factors</th>\n",
              "    </tr>\n",
              "    <tr>\n",
              "      <th>ID</th>\n",
              "      <th></th>\n",
              "      <th></th>\n",
              "      <th></th>\n",
              "      <th></th>\n",
              "      <th></th>\n",
              "      <th></th>\n",
              "      <th></th>\n",
              "      <th></th>\n",
              "      <th></th>\n",
              "      <th></th>\n",
              "      <th></th>\n",
              "      <th></th>\n",
              "      <th></th>\n",
              "      <th></th>\n",
              "      <th></th>\n",
              "      <th></th>\n",
              "      <th></th>\n",
              "      <th></th>\n",
              "      <th></th>\n",
              "      <th></th>\n",
              "      <th></th>\n",
              "    </tr>\n",
              "  </thead>\n",
              "  <tbody>\n",
              "    <tr>\n",
              "      <th>1</th>\n",
              "      <td>0</td>\n",
              "      <td>0</td>\n",
              "      <td>0</td>\n",
              "      <td>0</td>\n",
              "      <td>1</td>\n",
              "      <td>0</td>\n",
              "      <td>0</td>\n",
              "      <td>1</td>\n",
              "      <td>0</td>\n",
              "      <td>2</td>\n",
              "      <td>...</td>\n",
              "      <td>0</td>\n",
              "      <td>33.0</td>\n",
              "      <td>1</td>\n",
              "      <td>1</td>\n",
              "      <td>59</td>\n",
              "      <td>1.0</td>\n",
              "      <td>0.0</td>\n",
              "      <td>0.0</td>\n",
              "      <td>0.0</td>\n",
              "      <td>0.250</td>\n",
              "    </tr>\n",
              "    <tr>\n",
              "      <th>2</th>\n",
              "      <td>0</td>\n",
              "      <td>1</td>\n",
              "      <td>0</td>\n",
              "      <td>0</td>\n",
              "      <td>0</td>\n",
              "      <td>0</td>\n",
              "      <td>0</td>\n",
              "      <td>1</td>\n",
              "      <td>0</td>\n",
              "      <td>1</td>\n",
              "      <td>...</td>\n",
              "      <td>1</td>\n",
              "      <td>17.0</td>\n",
              "      <td>1</td>\n",
              "      <td>0</td>\n",
              "      <td>66</td>\n",
              "      <td>1.0</td>\n",
              "      <td>0.0</td>\n",
              "      <td>0.0</td>\n",
              "      <td>0.0</td>\n",
              "      <td>0.250</td>\n",
              "    </tr>\n",
              "    <tr>\n",
              "      <th>3</th>\n",
              "      <td>0</td>\n",
              "      <td>0</td>\n",
              "      <td>0</td>\n",
              "      <td>0</td>\n",
              "      <td>0</td>\n",
              "      <td>1</td>\n",
              "      <td>0</td>\n",
              "      <td>1</td>\n",
              "      <td>0</td>\n",
              "      <td>2</td>\n",
              "      <td>...</td>\n",
              "      <td>1</td>\n",
              "      <td>34.0</td>\n",
              "      <td>1</td>\n",
              "      <td>1</td>\n",
              "      <td>66</td>\n",
              "      <td>0.0</td>\n",
              "      <td>0.0</td>\n",
              "      <td>0.0</td>\n",
              "      <td>1.0</td>\n",
              "      <td>0.250</td>\n",
              "    </tr>\n",
              "    <tr>\n",
              "      <th>4</th>\n",
              "      <td>1</td>\n",
              "      <td>0</td>\n",
              "      <td>1</td>\n",
              "      <td>0</td>\n",
              "      <td>1</td>\n",
              "      <td>0</td>\n",
              "      <td>0</td>\n",
              "      <td>1</td>\n",
              "      <td>0</td>\n",
              "      <td>1</td>\n",
              "      <td>...</td>\n",
              "      <td>0</td>\n",
              "      <td>71.0</td>\n",
              "      <td>1</td>\n",
              "      <td>0</td>\n",
              "      <td>69</td>\n",
              "      <td>0.0</td>\n",
              "      <td>0.0</td>\n",
              "      <td>1.0</td>\n",
              "      <td>0.0</td>\n",
              "      <td>0.625</td>\n",
              "    </tr>\n",
              "    <tr>\n",
              "      <th>5</th>\n",
              "      <td>0</td>\n",
              "      <td>1</td>\n",
              "      <td>0</td>\n",
              "      <td>0</td>\n",
              "      <td>1</td>\n",
              "      <td>1</td>\n",
              "      <td>1</td>\n",
              "      <td>1</td>\n",
              "      <td>0</td>\n",
              "      <td>0</td>\n",
              "      <td>...</td>\n",
              "      <td>0</td>\n",
              "      <td>48.0</td>\n",
              "      <td>0</td>\n",
              "      <td>1</td>\n",
              "      <td>50</td>\n",
              "      <td>0.0</td>\n",
              "      <td>0.0</td>\n",
              "      <td>1.0</td>\n",
              "      <td>0.0</td>\n",
              "      <td>0.125</td>\n",
              "    </tr>\n",
              "  </tbody>\n",
              "</table>\n",
              "<p>5 rows × 31 columns</p>\n",
              "</div>\n",
              "    <div class=\"colab-df-buttons\">\n",
              "\n",
              "  <div class=\"colab-df-container\">\n",
              "    <button class=\"colab-df-convert\" onclick=\"convertToInteractive('df-b54388fd-58a9-458f-8558-782fa3292905')\"\n",
              "            title=\"Convert this dataframe to an interactive table.\"\n",
              "            style=\"display:none;\">\n",
              "\n",
              "  <svg xmlns=\"http://www.w3.org/2000/svg\" height=\"24px\" viewBox=\"0 -960 960 960\">\n",
              "    <path d=\"M120-120v-720h720v720H120Zm60-500h600v-160H180v160Zm220 220h160v-160H400v160Zm0 220h160v-160H400v160ZM180-400h160v-160H180v160Zm440 0h160v-160H620v160ZM180-180h160v-160H180v160Zm440 0h160v-160H620v160Z\"/>\n",
              "  </svg>\n",
              "    </button>\n",
              "\n",
              "  <style>\n",
              "    .colab-df-container {\n",
              "      display:flex;\n",
              "      gap: 12px;\n",
              "    }\n",
              "\n",
              "    .colab-df-convert {\n",
              "      background-color: #E8F0FE;\n",
              "      border: none;\n",
              "      border-radius: 50%;\n",
              "      cursor: pointer;\n",
              "      display: none;\n",
              "      fill: #1967D2;\n",
              "      height: 32px;\n",
              "      padding: 0 0 0 0;\n",
              "      width: 32px;\n",
              "    }\n",
              "\n",
              "    .colab-df-convert:hover {\n",
              "      background-color: #E2EBFA;\n",
              "      box-shadow: 0px 1px 2px rgba(60, 64, 67, 0.3), 0px 1px 3px 1px rgba(60, 64, 67, 0.15);\n",
              "      fill: #174EA6;\n",
              "    }\n",
              "\n",
              "    .colab-df-buttons div {\n",
              "      margin-bottom: 4px;\n",
              "    }\n",
              "\n",
              "    [theme=dark] .colab-df-convert {\n",
              "      background-color: #3B4455;\n",
              "      fill: #D2E3FC;\n",
              "    }\n",
              "\n",
              "    [theme=dark] .colab-df-convert:hover {\n",
              "      background-color: #434B5C;\n",
              "      box-shadow: 0px 1px 3px 1px rgba(0, 0, 0, 0.15);\n",
              "      filter: drop-shadow(0px 1px 2px rgba(0, 0, 0, 0.3));\n",
              "      fill: #FFFFFF;\n",
              "    }\n",
              "  </style>\n",
              "\n",
              "    <script>\n",
              "      const buttonEl =\n",
              "        document.querySelector('#df-b54388fd-58a9-458f-8558-782fa3292905 button.colab-df-convert');\n",
              "      buttonEl.style.display =\n",
              "        google.colab.kernel.accessAllowed ? 'block' : 'none';\n",
              "\n",
              "      async function convertToInteractive(key) {\n",
              "        const element = document.querySelector('#df-b54388fd-58a9-458f-8558-782fa3292905');\n",
              "        const dataTable =\n",
              "          await google.colab.kernel.invokeFunction('convertToInteractive',\n",
              "                                                    [key], {});\n",
              "        if (!dataTable) return;\n",
              "\n",
              "        const docLinkHtml = 'Like what you see? Visit the ' +\n",
              "          '<a target=\"_blank\" href=https://colab.research.google.com/notebooks/data_table.ipynb>data table notebook</a>'\n",
              "          + ' to learn more about interactive tables.';\n",
              "        element.innerHTML = '';\n",
              "        dataTable['output_type'] = 'display_data';\n",
              "        await google.colab.output.renderOutput(dataTable, element);\n",
              "        const docLink = document.createElement('div');\n",
              "        docLink.innerHTML = docLinkHtml;\n",
              "        element.appendChild(docLink);\n",
              "      }\n",
              "    </script>\n",
              "  </div>\n",
              "\n",
              "\n",
              "    <div id=\"df-6c01a1b6-dc2c-49bf-9e43-c561d3d6322c\">\n",
              "      <button class=\"colab-df-quickchart\" onclick=\"quickchart('df-6c01a1b6-dc2c-49bf-9e43-c561d3d6322c')\"\n",
              "                title=\"Suggest charts\"\n",
              "                style=\"display:none;\">\n",
              "\n",
              "<svg xmlns=\"http://www.w3.org/2000/svg\" height=\"24px\"viewBox=\"0 0 24 24\"\n",
              "     width=\"24px\">\n",
              "    <g>\n",
              "        <path d=\"M19 3H5c-1.1 0-2 .9-2 2v14c0 1.1.9 2 2 2h14c1.1 0 2-.9 2-2V5c0-1.1-.9-2-2-2zM9 17H7v-7h2v7zm4 0h-2V7h2v10zm4 0h-2v-4h2v4z\"/>\n",
              "    </g>\n",
              "</svg>\n",
              "      </button>\n",
              "\n",
              "<style>\n",
              "  .colab-df-quickchart {\n",
              "      --bg-color: #E8F0FE;\n",
              "      --fill-color: #1967D2;\n",
              "      --hover-bg-color: #E2EBFA;\n",
              "      --hover-fill-color: #174EA6;\n",
              "      --disabled-fill-color: #AAA;\n",
              "      --disabled-bg-color: #DDD;\n",
              "  }\n",
              "\n",
              "  [theme=dark] .colab-df-quickchart {\n",
              "      --bg-color: #3B4455;\n",
              "      --fill-color: #D2E3FC;\n",
              "      --hover-bg-color: #434B5C;\n",
              "      --hover-fill-color: #FFFFFF;\n",
              "      --disabled-bg-color: #3B4455;\n",
              "      --disabled-fill-color: #666;\n",
              "  }\n",
              "\n",
              "  .colab-df-quickchart {\n",
              "    background-color: var(--bg-color);\n",
              "    border: none;\n",
              "    border-radius: 50%;\n",
              "    cursor: pointer;\n",
              "    display: none;\n",
              "    fill: var(--fill-color);\n",
              "    height: 32px;\n",
              "    padding: 0;\n",
              "    width: 32px;\n",
              "  }\n",
              "\n",
              "  .colab-df-quickchart:hover {\n",
              "    background-color: var(--hover-bg-color);\n",
              "    box-shadow: 0 1px 2px rgba(60, 64, 67, 0.3), 0 1px 3px 1px rgba(60, 64, 67, 0.15);\n",
              "    fill: var(--button-hover-fill-color);\n",
              "  }\n",
              "\n",
              "  .colab-df-quickchart-complete:disabled,\n",
              "  .colab-df-quickchart-complete:disabled:hover {\n",
              "    background-color: var(--disabled-bg-color);\n",
              "    fill: var(--disabled-fill-color);\n",
              "    box-shadow: none;\n",
              "  }\n",
              "\n",
              "  .colab-df-spinner {\n",
              "    border: 2px solid var(--fill-color);\n",
              "    border-color: transparent;\n",
              "    border-bottom-color: var(--fill-color);\n",
              "    animation:\n",
              "      spin 1s steps(1) infinite;\n",
              "  }\n",
              "\n",
              "  @keyframes spin {\n",
              "    0% {\n",
              "      border-color: transparent;\n",
              "      border-bottom-color: var(--fill-color);\n",
              "      border-left-color: var(--fill-color);\n",
              "    }\n",
              "    20% {\n",
              "      border-color: transparent;\n",
              "      border-left-color: var(--fill-color);\n",
              "      border-top-color: var(--fill-color);\n",
              "    }\n",
              "    30% {\n",
              "      border-color: transparent;\n",
              "      border-left-color: var(--fill-color);\n",
              "      border-top-color: var(--fill-color);\n",
              "      border-right-color: var(--fill-color);\n",
              "    }\n",
              "    40% {\n",
              "      border-color: transparent;\n",
              "      border-right-color: var(--fill-color);\n",
              "      border-top-color: var(--fill-color);\n",
              "    }\n",
              "    60% {\n",
              "      border-color: transparent;\n",
              "      border-right-color: var(--fill-color);\n",
              "    }\n",
              "    80% {\n",
              "      border-color: transparent;\n",
              "      border-right-color: var(--fill-color);\n",
              "      border-bottom-color: var(--fill-color);\n",
              "    }\n",
              "    90% {\n",
              "      border-color: transparent;\n",
              "      border-bottom-color: var(--fill-color);\n",
              "    }\n",
              "  }\n",
              "</style>\n",
              "\n",
              "      <script>\n",
              "        async function quickchart(key) {\n",
              "          const quickchartButtonEl =\n",
              "            document.querySelector('#' + key + ' button');\n",
              "          quickchartButtonEl.disabled = true;  // To prevent multiple clicks.\n",
              "          quickchartButtonEl.classList.add('colab-df-spinner');\n",
              "          try {\n",
              "            const charts = await google.colab.kernel.invokeFunction(\n",
              "                'suggestCharts', [key], {});\n",
              "          } catch (error) {\n",
              "            console.error('Error during call to suggestCharts:', error);\n",
              "          }\n",
              "          quickchartButtonEl.classList.remove('colab-df-spinner');\n",
              "          quickchartButtonEl.classList.add('colab-df-quickchart-complete');\n",
              "        }\n",
              "        (() => {\n",
              "          let quickchartButtonEl =\n",
              "            document.querySelector('#df-6c01a1b6-dc2c-49bf-9e43-c561d3d6322c button');\n",
              "          quickchartButtonEl.style.display =\n",
              "            google.colab.kernel.accessAllowed ? 'block' : 'none';\n",
              "        })();\n",
              "      </script>\n",
              "    </div>\n",
              "\n",
              "    </div>\n",
              "  </div>\n"
            ],
            "application/vnd.google.colaboratory.intrinsic+json": {
              "type": "dataframe",
              "variable_name": "train_split"
            }
          },
          "metadata": {},
          "execution_count": 89
        }
      ]
    },
    {
      "cell_type": "markdown",
      "source": [
        "We applied a standard `80/20 train-validation` split using `train_test_split`. This ensures consistent evaluation while allowing the model to learn from a majority portion of the data."
      ],
      "metadata": {
        "id": "EsWWSHWQyAN0"
      }
    },
    {
      "cell_type": "markdown",
      "source": [
        "# <font color='#BFD72F'> 4. Feature Selection </font>"
      ],
      "metadata": {
        "id": "SWTwoiroyGUY"
      }
    },
    {
      "cell_type": "markdown",
      "source": [
        "## <font color='#BFD72F'> 4.1 Wrapper Method (RFE) </font>"
      ],
      "metadata": {
        "id": "vWGztn8zy7pQ"
      }
    },
    {
      "cell_type": "code",
      "source": [
        "train.head()"
      ],
      "metadata": {
        "colab": {
          "base_uri": "https://localhost:8080/",
          "height": 321
        },
        "id": "gi7OIBQlydbq",
        "outputId": "82d4f538-2485-45ea-e274-6af56c642976"
      },
      "execution_count": 90,
      "outputs": [
        {
          "output_type": "execute_result",
          "data": {
            "text/plain": [
              "    Alcohol Consumption  Cancer Stage  Diabetes  Diabetes History  Diet Risk  \\\n",
              "ID                                                                             \n",
              "1                     0             0         0                 0          1   \n",
              "2                     0             1         0                 0          0   \n",
              "3                     0             0         0                 0          0   \n",
              "4                     1             0         1                 0          1   \n",
              "5                     0             1         0                 0          1   \n",
              "\n",
              "    Early Detection  Family History  Gender  Genetic Mutation  \\\n",
              "ID                                                              \n",
              "1                 0               0       1                 0   \n",
              "2                 0               0       1                 0   \n",
              "3                 1               0       1                 0   \n",
              "4                 0               0       1                 0   \n",
              "5                 1               1       1                 0   \n",
              "\n",
              "    Healthcare Access  ...  Smoking History  Tumor Size (mm)  Urban or Rural  \\\n",
              "ID                     ...                                                     \n",
              "1                   2  ...                0             33.0               1   \n",
              "2                   1  ...                1             17.0               1   \n",
              "3                   2  ...                1             34.0               1   \n",
              "4                   1  ...                0             71.0               1   \n",
              "5                   0  ...                0             48.0               0   \n",
              "\n",
              "    Survival Prediction  Age  Treatment Type_Chemotherapy  \\\n",
              "ID                                                          \n",
              "1                     1   59                          1.0   \n",
              "2                     0   66                          1.0   \n",
              "3                     1   66                          0.0   \n",
              "4                     0   69                          0.0   \n",
              "5                     1   50                          0.0   \n",
              "\n",
              "    Treatment Type_Combination  Treatment Type_Radiotherapy  \\\n",
              "ID                                                            \n",
              "1                          0.0                          0.0   \n",
              "2                          0.0                          0.0   \n",
              "3                          0.0                          0.0   \n",
              "4                          0.0                          1.0   \n",
              "5                          0.0                          1.0   \n",
              "\n",
              "    Treatment Type_Surgery  Total Risk Factors  \n",
              "ID                                              \n",
              "1                      0.0               0.250  \n",
              "2                      0.0               0.250  \n",
              "3                      1.0               0.250  \n",
              "4                      0.0               0.625  \n",
              "5                      0.0               0.125  \n",
              "\n",
              "[5 rows x 31 columns]"
            ],
            "text/html": [
              "\n",
              "  <div id=\"df-8b6ad6e2-3691-42d5-a7d0-f839417bacb0\" class=\"colab-df-container\">\n",
              "    <div>\n",
              "<style scoped>\n",
              "    .dataframe tbody tr th:only-of-type {\n",
              "        vertical-align: middle;\n",
              "    }\n",
              "\n",
              "    .dataframe tbody tr th {\n",
              "        vertical-align: top;\n",
              "    }\n",
              "\n",
              "    .dataframe thead th {\n",
              "        text-align: right;\n",
              "    }\n",
              "</style>\n",
              "<table border=\"1\" class=\"dataframe\">\n",
              "  <thead>\n",
              "    <tr style=\"text-align: right;\">\n",
              "      <th></th>\n",
              "      <th>Alcohol Consumption</th>\n",
              "      <th>Cancer Stage</th>\n",
              "      <th>Diabetes</th>\n",
              "      <th>Diabetes History</th>\n",
              "      <th>Diet Risk</th>\n",
              "      <th>Early Detection</th>\n",
              "      <th>Family History</th>\n",
              "      <th>Gender</th>\n",
              "      <th>Genetic Mutation</th>\n",
              "      <th>Healthcare Access</th>\n",
              "      <th>...</th>\n",
              "      <th>Smoking History</th>\n",
              "      <th>Tumor Size (mm)</th>\n",
              "      <th>Urban or Rural</th>\n",
              "      <th>Survival Prediction</th>\n",
              "      <th>Age</th>\n",
              "      <th>Treatment Type_Chemotherapy</th>\n",
              "      <th>Treatment Type_Combination</th>\n",
              "      <th>Treatment Type_Radiotherapy</th>\n",
              "      <th>Treatment Type_Surgery</th>\n",
              "      <th>Total Risk Factors</th>\n",
              "    </tr>\n",
              "    <tr>\n",
              "      <th>ID</th>\n",
              "      <th></th>\n",
              "      <th></th>\n",
              "      <th></th>\n",
              "      <th></th>\n",
              "      <th></th>\n",
              "      <th></th>\n",
              "      <th></th>\n",
              "      <th></th>\n",
              "      <th></th>\n",
              "      <th></th>\n",
              "      <th></th>\n",
              "      <th></th>\n",
              "      <th></th>\n",
              "      <th></th>\n",
              "      <th></th>\n",
              "      <th></th>\n",
              "      <th></th>\n",
              "      <th></th>\n",
              "      <th></th>\n",
              "      <th></th>\n",
              "      <th></th>\n",
              "    </tr>\n",
              "  </thead>\n",
              "  <tbody>\n",
              "    <tr>\n",
              "      <th>1</th>\n",
              "      <td>0</td>\n",
              "      <td>0</td>\n",
              "      <td>0</td>\n",
              "      <td>0</td>\n",
              "      <td>1</td>\n",
              "      <td>0</td>\n",
              "      <td>0</td>\n",
              "      <td>1</td>\n",
              "      <td>0</td>\n",
              "      <td>2</td>\n",
              "      <td>...</td>\n",
              "      <td>0</td>\n",
              "      <td>33.0</td>\n",
              "      <td>1</td>\n",
              "      <td>1</td>\n",
              "      <td>59</td>\n",
              "      <td>1.0</td>\n",
              "      <td>0.0</td>\n",
              "      <td>0.0</td>\n",
              "      <td>0.0</td>\n",
              "      <td>0.250</td>\n",
              "    </tr>\n",
              "    <tr>\n",
              "      <th>2</th>\n",
              "      <td>0</td>\n",
              "      <td>1</td>\n",
              "      <td>0</td>\n",
              "      <td>0</td>\n",
              "      <td>0</td>\n",
              "      <td>0</td>\n",
              "      <td>0</td>\n",
              "      <td>1</td>\n",
              "      <td>0</td>\n",
              "      <td>1</td>\n",
              "      <td>...</td>\n",
              "      <td>1</td>\n",
              "      <td>17.0</td>\n",
              "      <td>1</td>\n",
              "      <td>0</td>\n",
              "      <td>66</td>\n",
              "      <td>1.0</td>\n",
              "      <td>0.0</td>\n",
              "      <td>0.0</td>\n",
              "      <td>0.0</td>\n",
              "      <td>0.250</td>\n",
              "    </tr>\n",
              "    <tr>\n",
              "      <th>3</th>\n",
              "      <td>0</td>\n",
              "      <td>0</td>\n",
              "      <td>0</td>\n",
              "      <td>0</td>\n",
              "      <td>0</td>\n",
              "      <td>1</td>\n",
              "      <td>0</td>\n",
              "      <td>1</td>\n",
              "      <td>0</td>\n",
              "      <td>2</td>\n",
              "      <td>...</td>\n",
              "      <td>1</td>\n",
              "      <td>34.0</td>\n",
              "      <td>1</td>\n",
              "      <td>1</td>\n",
              "      <td>66</td>\n",
              "      <td>0.0</td>\n",
              "      <td>0.0</td>\n",
              "      <td>0.0</td>\n",
              "      <td>1.0</td>\n",
              "      <td>0.250</td>\n",
              "    </tr>\n",
              "    <tr>\n",
              "      <th>4</th>\n",
              "      <td>1</td>\n",
              "      <td>0</td>\n",
              "      <td>1</td>\n",
              "      <td>0</td>\n",
              "      <td>1</td>\n",
              "      <td>0</td>\n",
              "      <td>0</td>\n",
              "      <td>1</td>\n",
              "      <td>0</td>\n",
              "      <td>1</td>\n",
              "      <td>...</td>\n",
              "      <td>0</td>\n",
              "      <td>71.0</td>\n",
              "      <td>1</td>\n",
              "      <td>0</td>\n",
              "      <td>69</td>\n",
              "      <td>0.0</td>\n",
              "      <td>0.0</td>\n",
              "      <td>1.0</td>\n",
              "      <td>0.0</td>\n",
              "      <td>0.625</td>\n",
              "    </tr>\n",
              "    <tr>\n",
              "      <th>5</th>\n",
              "      <td>0</td>\n",
              "      <td>1</td>\n",
              "      <td>0</td>\n",
              "      <td>0</td>\n",
              "      <td>1</td>\n",
              "      <td>1</td>\n",
              "      <td>1</td>\n",
              "      <td>1</td>\n",
              "      <td>0</td>\n",
              "      <td>0</td>\n",
              "      <td>...</td>\n",
              "      <td>0</td>\n",
              "      <td>48.0</td>\n",
              "      <td>0</td>\n",
              "      <td>1</td>\n",
              "      <td>50</td>\n",
              "      <td>0.0</td>\n",
              "      <td>0.0</td>\n",
              "      <td>1.0</td>\n",
              "      <td>0.0</td>\n",
              "      <td>0.125</td>\n",
              "    </tr>\n",
              "  </tbody>\n",
              "</table>\n",
              "<p>5 rows × 31 columns</p>\n",
              "</div>\n",
              "    <div class=\"colab-df-buttons\">\n",
              "\n",
              "  <div class=\"colab-df-container\">\n",
              "    <button class=\"colab-df-convert\" onclick=\"convertToInteractive('df-8b6ad6e2-3691-42d5-a7d0-f839417bacb0')\"\n",
              "            title=\"Convert this dataframe to an interactive table.\"\n",
              "            style=\"display:none;\">\n",
              "\n",
              "  <svg xmlns=\"http://www.w3.org/2000/svg\" height=\"24px\" viewBox=\"0 -960 960 960\">\n",
              "    <path d=\"M120-120v-720h720v720H120Zm60-500h600v-160H180v160Zm220 220h160v-160H400v160Zm0 220h160v-160H400v160ZM180-400h160v-160H180v160Zm440 0h160v-160H620v160ZM180-180h160v-160H180v160Zm440 0h160v-160H620v160Z\"/>\n",
              "  </svg>\n",
              "    </button>\n",
              "\n",
              "  <style>\n",
              "    .colab-df-container {\n",
              "      display:flex;\n",
              "      gap: 12px;\n",
              "    }\n",
              "\n",
              "    .colab-df-convert {\n",
              "      background-color: #E8F0FE;\n",
              "      border: none;\n",
              "      border-radius: 50%;\n",
              "      cursor: pointer;\n",
              "      display: none;\n",
              "      fill: #1967D2;\n",
              "      height: 32px;\n",
              "      padding: 0 0 0 0;\n",
              "      width: 32px;\n",
              "    }\n",
              "\n",
              "    .colab-df-convert:hover {\n",
              "      background-color: #E2EBFA;\n",
              "      box-shadow: 0px 1px 2px rgba(60, 64, 67, 0.3), 0px 1px 3px 1px rgba(60, 64, 67, 0.15);\n",
              "      fill: #174EA6;\n",
              "    }\n",
              "\n",
              "    .colab-df-buttons div {\n",
              "      margin-bottom: 4px;\n",
              "    }\n",
              "\n",
              "    [theme=dark] .colab-df-convert {\n",
              "      background-color: #3B4455;\n",
              "      fill: #D2E3FC;\n",
              "    }\n",
              "\n",
              "    [theme=dark] .colab-df-convert:hover {\n",
              "      background-color: #434B5C;\n",
              "      box-shadow: 0px 1px 3px 1px rgba(0, 0, 0, 0.15);\n",
              "      filter: drop-shadow(0px 1px 2px rgba(0, 0, 0, 0.3));\n",
              "      fill: #FFFFFF;\n",
              "    }\n",
              "  </style>\n",
              "\n",
              "    <script>\n",
              "      const buttonEl =\n",
              "        document.querySelector('#df-8b6ad6e2-3691-42d5-a7d0-f839417bacb0 button.colab-df-convert');\n",
              "      buttonEl.style.display =\n",
              "        google.colab.kernel.accessAllowed ? 'block' : 'none';\n",
              "\n",
              "      async function convertToInteractive(key) {\n",
              "        const element = document.querySelector('#df-8b6ad6e2-3691-42d5-a7d0-f839417bacb0');\n",
              "        const dataTable =\n",
              "          await google.colab.kernel.invokeFunction('convertToInteractive',\n",
              "                                                    [key], {});\n",
              "        if (!dataTable) return;\n",
              "\n",
              "        const docLinkHtml = 'Like what you see? Visit the ' +\n",
              "          '<a target=\"_blank\" href=https://colab.research.google.com/notebooks/data_table.ipynb>data table notebook</a>'\n",
              "          + ' to learn more about interactive tables.';\n",
              "        element.innerHTML = '';\n",
              "        dataTable['output_type'] = 'display_data';\n",
              "        await google.colab.output.renderOutput(dataTable, element);\n",
              "        const docLink = document.createElement('div');\n",
              "        docLink.innerHTML = docLinkHtml;\n",
              "        element.appendChild(docLink);\n",
              "      }\n",
              "    </script>\n",
              "  </div>\n",
              "\n",
              "\n",
              "    <div id=\"df-9b928502-4360-4eac-a601-3b35aadc1148\">\n",
              "      <button class=\"colab-df-quickchart\" onclick=\"quickchart('df-9b928502-4360-4eac-a601-3b35aadc1148')\"\n",
              "                title=\"Suggest charts\"\n",
              "                style=\"display:none;\">\n",
              "\n",
              "<svg xmlns=\"http://www.w3.org/2000/svg\" height=\"24px\"viewBox=\"0 0 24 24\"\n",
              "     width=\"24px\">\n",
              "    <g>\n",
              "        <path d=\"M19 3H5c-1.1 0-2 .9-2 2v14c0 1.1.9 2 2 2h14c1.1 0 2-.9 2-2V5c0-1.1-.9-2-2-2zM9 17H7v-7h2v7zm4 0h-2V7h2v10zm4 0h-2v-4h2v4z\"/>\n",
              "    </g>\n",
              "</svg>\n",
              "      </button>\n",
              "\n",
              "<style>\n",
              "  .colab-df-quickchart {\n",
              "      --bg-color: #E8F0FE;\n",
              "      --fill-color: #1967D2;\n",
              "      --hover-bg-color: #E2EBFA;\n",
              "      --hover-fill-color: #174EA6;\n",
              "      --disabled-fill-color: #AAA;\n",
              "      --disabled-bg-color: #DDD;\n",
              "  }\n",
              "\n",
              "  [theme=dark] .colab-df-quickchart {\n",
              "      --bg-color: #3B4455;\n",
              "      --fill-color: #D2E3FC;\n",
              "      --hover-bg-color: #434B5C;\n",
              "      --hover-fill-color: #FFFFFF;\n",
              "      --disabled-bg-color: #3B4455;\n",
              "      --disabled-fill-color: #666;\n",
              "  }\n",
              "\n",
              "  .colab-df-quickchart {\n",
              "    background-color: var(--bg-color);\n",
              "    border: none;\n",
              "    border-radius: 50%;\n",
              "    cursor: pointer;\n",
              "    display: none;\n",
              "    fill: var(--fill-color);\n",
              "    height: 32px;\n",
              "    padding: 0;\n",
              "    width: 32px;\n",
              "  }\n",
              "\n",
              "  .colab-df-quickchart:hover {\n",
              "    background-color: var(--hover-bg-color);\n",
              "    box-shadow: 0 1px 2px rgba(60, 64, 67, 0.3), 0 1px 3px 1px rgba(60, 64, 67, 0.15);\n",
              "    fill: var(--button-hover-fill-color);\n",
              "  }\n",
              "\n",
              "  .colab-df-quickchart-complete:disabled,\n",
              "  .colab-df-quickchart-complete:disabled:hover {\n",
              "    background-color: var(--disabled-bg-color);\n",
              "    fill: var(--disabled-fill-color);\n",
              "    box-shadow: none;\n",
              "  }\n",
              "\n",
              "  .colab-df-spinner {\n",
              "    border: 2px solid var(--fill-color);\n",
              "    border-color: transparent;\n",
              "    border-bottom-color: var(--fill-color);\n",
              "    animation:\n",
              "      spin 1s steps(1) infinite;\n",
              "  }\n",
              "\n",
              "  @keyframes spin {\n",
              "    0% {\n",
              "      border-color: transparent;\n",
              "      border-bottom-color: var(--fill-color);\n",
              "      border-left-color: var(--fill-color);\n",
              "    }\n",
              "    20% {\n",
              "      border-color: transparent;\n",
              "      border-left-color: var(--fill-color);\n",
              "      border-top-color: var(--fill-color);\n",
              "    }\n",
              "    30% {\n",
              "      border-color: transparent;\n",
              "      border-left-color: var(--fill-color);\n",
              "      border-top-color: var(--fill-color);\n",
              "      border-right-color: var(--fill-color);\n",
              "    }\n",
              "    40% {\n",
              "      border-color: transparent;\n",
              "      border-right-color: var(--fill-color);\n",
              "      border-top-color: var(--fill-color);\n",
              "    }\n",
              "    60% {\n",
              "      border-color: transparent;\n",
              "      border-right-color: var(--fill-color);\n",
              "    }\n",
              "    80% {\n",
              "      border-color: transparent;\n",
              "      border-right-color: var(--fill-color);\n",
              "      border-bottom-color: var(--fill-color);\n",
              "    }\n",
              "    90% {\n",
              "      border-color: transparent;\n",
              "      border-bottom-color: var(--fill-color);\n",
              "    }\n",
              "  }\n",
              "</style>\n",
              "\n",
              "      <script>\n",
              "        async function quickchart(key) {\n",
              "          const quickchartButtonEl =\n",
              "            document.querySelector('#' + key + ' button');\n",
              "          quickchartButtonEl.disabled = true;  // To prevent multiple clicks.\n",
              "          quickchartButtonEl.classList.add('colab-df-spinner');\n",
              "          try {\n",
              "            const charts = await google.colab.kernel.invokeFunction(\n",
              "                'suggestCharts', [key], {});\n",
              "          } catch (error) {\n",
              "            console.error('Error during call to suggestCharts:', error);\n",
              "          }\n",
              "          quickchartButtonEl.classList.remove('colab-df-spinner');\n",
              "          quickchartButtonEl.classList.add('colab-df-quickchart-complete');\n",
              "        }\n",
              "        (() => {\n",
              "          let quickchartButtonEl =\n",
              "            document.querySelector('#df-9b928502-4360-4eac-a601-3b35aadc1148 button');\n",
              "          quickchartButtonEl.style.display =\n",
              "            google.colab.kernel.accessAllowed ? 'block' : 'none';\n",
              "        })();\n",
              "      </script>\n",
              "    </div>\n",
              "\n",
              "    </div>\n",
              "  </div>\n"
            ],
            "application/vnd.google.colaboratory.intrinsic+json": {
              "type": "dataframe",
              "variable_name": "train"
            }
          },
          "metadata": {},
          "execution_count": 90
        }
      ]
    },
    {
      "cell_type": "code",
      "source": [
        "data = train.drop(['Survival Prediction'], axis=1)"
      ],
      "metadata": {
        "id": "GSUWAddtzC56"
      },
      "execution_count": 91,
      "outputs": []
    },
    {
      "cell_type": "code",
      "source": [
        "target = train['Survival Prediction']"
      ],
      "metadata": {
        "id": "nu3mxsBszIGi"
      },
      "execution_count": 92,
      "outputs": []
    },
    {
      "cell_type": "code",
      "source": [
        "scaler = StandardScaler()\n",
        "data_scaled = scaler.fit_transform(data)"
      ],
      "metadata": {
        "id": "BJaJnhYo3Ros"
      },
      "execution_count": 93,
      "outputs": []
    },
    {
      "cell_type": "code",
      "source": [
        "model = LogisticRegression(max_iter=1000)"
      ],
      "metadata": {
        "id": "vEib-2HLzRic"
      },
      "execution_count": 94,
      "outputs": []
    },
    {
      "cell_type": "code",
      "source": [
        "rfe = RFE(estimator=model, n_features_to_select=10)"
      ],
      "metadata": {
        "id": "H7PPLdRjzbhk"
      },
      "execution_count": 95,
      "outputs": []
    },
    {
      "cell_type": "code",
      "source": [
        "X_rfe = rfe.fit_transform(X=data_scaled, y=target)\n",
        "X_rfe"
      ],
      "metadata": {
        "colab": {
          "base_uri": "https://localhost:8080/"
        },
        "id": "u8Vq2Hw0ze5n",
        "outputId": "4e1a7767-c57d-438f-c2b0-13b92d149de2"
      },
      "execution_count": 96,
      "outputs": [
        {
          "output_type": "execute_result",
          "data": {
            "text/plain": [
              "array([[-0.01154508, -1.22108003,  0.14492833, ..., -0.50016658,\n",
              "        -0.33558698, -0.39843864],\n",
              "       [-0.01154508, -1.22108003, -0.35531904, ..., -0.50016658,\n",
              "        -0.33558698, -0.39843864],\n",
              "       [-0.01154508,  0.81894714, -0.22359839, ..., -0.50016658,\n",
              "        -0.33558698, -0.39843864],\n",
              "       ...,\n",
              "       [-0.01154508,  0.81894714,  1.17347738, ..., -0.50016658,\n",
              "        -0.33558698,  1.18899031],\n",
              "       [-0.01154508,  0.81894714,  1.31655074, ..., -0.50016658,\n",
              "        -0.33558698,  0.39527584],\n",
              "       [-0.01154508, -1.22108003, -0.14358355, ...,  1.99933389,\n",
              "        -0.33558698, -0.39843864]])"
            ]
          },
          "metadata": {},
          "execution_count": 96
        }
      ]
    },
    {
      "cell_type": "code",
      "source": [
        "rfe.support_"
      ],
      "metadata": {
        "colab": {
          "base_uri": "https://localhost:8080/"
        },
        "id": "4cTrSvde1L6h",
        "outputId": "e1fee831-c4eb-4b57-a08b-1247b8d68d70"
      },
      "execution_count": 97,
      "outputs": [
        {
          "output_type": "execute_result",
          "data": {
            "text/plain": [
              "array([False, False, False,  True, False,  True, False, False, False,\n",
              "       False,  True, False, False, False, False, False, False, False,\n",
              "       False,  True,  True, False,  True, False, False,  True,  True,\n",
              "        True, False,  True])"
            ]
          },
          "metadata": {},
          "execution_count": 97
        }
      ]
    },
    {
      "cell_type": "code",
      "source": [
        "rfe.ranking_"
      ],
      "metadata": {
        "colab": {
          "base_uri": "https://localhost:8080/"
        },
        "id": "Wm1tFaJh1Soe",
        "outputId": "d604255e-c89c-4248-e548-9d5d27034d5f"
      },
      "execution_count": 98,
      "outputs": [
        {
          "output_type": "execute_result",
          "data": {
            "text/plain": [
              "array([14,  6, 15,  1,  4,  1, 11, 13, 20, 19,  1, 10, 21, 16,  8,  5,  7,\n",
              "        3, 18,  1,  1,  9,  1,  2, 12,  1,  1,  1, 17,  1])"
            ]
          },
          "metadata": {},
          "execution_count": 98
        }
      ]
    },
    {
      "cell_type": "code",
      "source": [
        "selected_features = pd.Series(rfe.support_, index = data.columns)\n",
        "selected_features"
      ],
      "metadata": {
        "colab": {
          "base_uri": "https://localhost:8080/",
          "height": 1000
        },
        "id": "hJxNsoe61W3Z",
        "outputId": "3bb332f8-70a8-4e86-ee1c-cba8c8269916"
      },
      "execution_count": 99,
      "outputs": [
        {
          "output_type": "execute_result",
          "data": {
            "text/plain": [
              "Alcohol Consumption            False\n",
              "Cancer Stage                   False\n",
              "Diabetes                       False\n",
              "Diabetes History                True\n",
              "Diet Risk                      False\n",
              "Early Detection                 True\n",
              "Family History                 False\n",
              "Gender                         False\n",
              "Genetic Mutation               False\n",
              "Healthcare Access              False\n",
              "Healthcare Costs                True\n",
              "Heart Disease History          False\n",
              "Hypertension                   False\n",
              "Incidence Rate per 100K        False\n",
              "Inflammatory Bowel Disease     False\n",
              "Insurance Costs                False\n",
              "Insurance Status               False\n",
              "Mortality Rate per 100K        False\n",
              "Obesity BMI                    False\n",
              "Physical Activity               True\n",
              "Screening History               True\n",
              "Smoking History                False\n",
              "Tumor Size (mm)                 True\n",
              "Urban or Rural                 False\n",
              "Age                            False\n",
              "Treatment Type_Chemotherapy     True\n",
              "Treatment Type_Combination      True\n",
              "Treatment Type_Radiotherapy     True\n",
              "Treatment Type_Surgery         False\n",
              "Total Risk Factors              True\n",
              "dtype: bool"
            ],
            "text/html": [
              "<div>\n",
              "<style scoped>\n",
              "    .dataframe tbody tr th:only-of-type {\n",
              "        vertical-align: middle;\n",
              "    }\n",
              "\n",
              "    .dataframe tbody tr th {\n",
              "        vertical-align: top;\n",
              "    }\n",
              "\n",
              "    .dataframe thead th {\n",
              "        text-align: right;\n",
              "    }\n",
              "</style>\n",
              "<table border=\"1\" class=\"dataframe\">\n",
              "  <thead>\n",
              "    <tr style=\"text-align: right;\">\n",
              "      <th></th>\n",
              "      <th>0</th>\n",
              "    </tr>\n",
              "  </thead>\n",
              "  <tbody>\n",
              "    <tr>\n",
              "      <th>Alcohol Consumption</th>\n",
              "      <td>False</td>\n",
              "    </tr>\n",
              "    <tr>\n",
              "      <th>Cancer Stage</th>\n",
              "      <td>False</td>\n",
              "    </tr>\n",
              "    <tr>\n",
              "      <th>Diabetes</th>\n",
              "      <td>False</td>\n",
              "    </tr>\n",
              "    <tr>\n",
              "      <th>Diabetes History</th>\n",
              "      <td>True</td>\n",
              "    </tr>\n",
              "    <tr>\n",
              "      <th>Diet Risk</th>\n",
              "      <td>False</td>\n",
              "    </tr>\n",
              "    <tr>\n",
              "      <th>Early Detection</th>\n",
              "      <td>True</td>\n",
              "    </tr>\n",
              "    <tr>\n",
              "      <th>Family History</th>\n",
              "      <td>False</td>\n",
              "    </tr>\n",
              "    <tr>\n",
              "      <th>Gender</th>\n",
              "      <td>False</td>\n",
              "    </tr>\n",
              "    <tr>\n",
              "      <th>Genetic Mutation</th>\n",
              "      <td>False</td>\n",
              "    </tr>\n",
              "    <tr>\n",
              "      <th>Healthcare Access</th>\n",
              "      <td>False</td>\n",
              "    </tr>\n",
              "    <tr>\n",
              "      <th>Healthcare Costs</th>\n",
              "      <td>True</td>\n",
              "    </tr>\n",
              "    <tr>\n",
              "      <th>Heart Disease History</th>\n",
              "      <td>False</td>\n",
              "    </tr>\n",
              "    <tr>\n",
              "      <th>Hypertension</th>\n",
              "      <td>False</td>\n",
              "    </tr>\n",
              "    <tr>\n",
              "      <th>Incidence Rate per 100K</th>\n",
              "      <td>False</td>\n",
              "    </tr>\n",
              "    <tr>\n",
              "      <th>Inflammatory Bowel Disease</th>\n",
              "      <td>False</td>\n",
              "    </tr>\n",
              "    <tr>\n",
              "      <th>Insurance Costs</th>\n",
              "      <td>False</td>\n",
              "    </tr>\n",
              "    <tr>\n",
              "      <th>Insurance Status</th>\n",
              "      <td>False</td>\n",
              "    </tr>\n",
              "    <tr>\n",
              "      <th>Mortality Rate per 100K</th>\n",
              "      <td>False</td>\n",
              "    </tr>\n",
              "    <tr>\n",
              "      <th>Obesity BMI</th>\n",
              "      <td>False</td>\n",
              "    </tr>\n",
              "    <tr>\n",
              "      <th>Physical Activity</th>\n",
              "      <td>True</td>\n",
              "    </tr>\n",
              "    <tr>\n",
              "      <th>Screening History</th>\n",
              "      <td>True</td>\n",
              "    </tr>\n",
              "    <tr>\n",
              "      <th>Smoking History</th>\n",
              "      <td>False</td>\n",
              "    </tr>\n",
              "    <tr>\n",
              "      <th>Tumor Size (mm)</th>\n",
              "      <td>True</td>\n",
              "    </tr>\n",
              "    <tr>\n",
              "      <th>Urban or Rural</th>\n",
              "      <td>False</td>\n",
              "    </tr>\n",
              "    <tr>\n",
              "      <th>Age</th>\n",
              "      <td>False</td>\n",
              "    </tr>\n",
              "    <tr>\n",
              "      <th>Treatment Type_Chemotherapy</th>\n",
              "      <td>True</td>\n",
              "    </tr>\n",
              "    <tr>\n",
              "      <th>Treatment Type_Combination</th>\n",
              "      <td>True</td>\n",
              "    </tr>\n",
              "    <tr>\n",
              "      <th>Treatment Type_Radiotherapy</th>\n",
              "      <td>True</td>\n",
              "    </tr>\n",
              "    <tr>\n",
              "      <th>Treatment Type_Surgery</th>\n",
              "      <td>False</td>\n",
              "    </tr>\n",
              "    <tr>\n",
              "      <th>Total Risk Factors</th>\n",
              "      <td>True</td>\n",
              "    </tr>\n",
              "  </tbody>\n",
              "</table>\n",
              "</div><br><label><b>dtype:</b> bool</label>"
            ]
          },
          "metadata": {},
          "execution_count": 99
        }
      ]
    },
    {
      "cell_type": "code",
      "source": [
        "feature_scaler = MinMaxScaler().fit(X_train)"
      ],
      "metadata": {
        "id": "or6TUis-LoeD"
      },
      "execution_count": 100,
      "outputs": []
    },
    {
      "cell_type": "markdown",
      "source": [
        "outro"
      ],
      "metadata": {
        "id": "Cj3uR3SIV-Y5"
      }
    },
    {
      "cell_type": "code",
      "source": [
        "# Usar o mesmo X_train (pré-escalado, se necessário) e y_train definidos antes\n",
        "# Se ainda não tiveres escalado X, podes aplicar o StandardScaler se quiseres (embora RandomForest não exija)\n",
        "\n",
        "# Criar o classificador base\n",
        "model = RandomForestClassifier(random_state=42)\n",
        "\n",
        "# Aplicar RFECV\n",
        "rfecv = RFECV(\n",
        "    estimator=model,\n",
        "    step=1,\n",
        "    cv=StratifiedKFold(5),\n",
        "    scoring='f1_weighted',\n",
        "    n_jobs=-1\n",
        ")\n",
        "\n",
        "# Treinar o seletor de features com validação cruzada\n",
        "rfecv.fit(X_train, y_train)\n",
        "\n",
        "# Ver as features selecionadas\n",
        "selected_features = X_train.columns[rfecv.support_]\n",
        "print(f\"Número ótimo de features: {rfecv.n_features_}\")\n",
        "print(\"Features selecionadas:\", selected_features.tolist())"
      ],
      "metadata": {
        "id": "P0ickjAYWAa2"
      },
      "execution_count": null,
      "outputs": []
    },
    {
      "cell_type": "markdown",
      "source": [
        "# <font color='#BFD72F'> 5. Models</font>"
      ],
      "metadata": {
        "id": "6XqfFve2GnKQ"
      }
    }
  ]
}